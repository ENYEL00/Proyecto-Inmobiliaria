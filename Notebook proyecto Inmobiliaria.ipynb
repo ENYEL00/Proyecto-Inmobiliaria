{
 "cells": [
  {
   "cell_type": "markdown",
   "metadata": {
    "id": "8mDD_5bxph9y"
   },
   "source": [
    "# Proyecto Inmobiliaria\n",
    "\n",
    "Este proyecto trata sobre los datos de captacion de propiedades de una inmobiliaria.\n",
    "\n",
    "La mayoria de los inmuebles pertenecen a la ciudad de Valencia, en el estado Carabobo en Venezuela.\n",
    "\n",
    "El escenario del proyecto es el siguente:\n",
    "\n",
    "    \"Eres un Cientifico de Datos, el cual fue contratado por la inmobiliaria para un proyecto. El foco principal de este proyecto consiste en la colocacion de precios en las viviendas\n",
    "    de clientes nuevos que buscan vender sus propiedades de la mano de la Inmobiliaria. Te vas a basar en un conjunto de datos que te fue proporcionado en donde te indica informacion como\n",
    "    la zona de la ciudad, el numero de habitaciones y de baños, el numero de puestos de estacionamiento entre otros datos. En este caso la propiedad a vender es un apartamento\n",
    "\n",
    "    De la misma manera, a partir de estos datos, los ejecutivos de la Inmobiliaria desean tener un analisis descriptivo de la situacion e inventario de las propiedades con las que cuentan para la venta, en un dashboar informativo que cubra las siguientes preguntas:\n",
    "        * El precio maximo, minimo y promedio de las viviendas manejadas\n",
    "        * La distribucion, o cantidad, de viviendas captadas por cada zona.\n",
    "        * La distribucion de propiedades captadas por cada ejecutivo.\n",
    "    \n",
    "    \"\n",
    "Ahora que tienes la informacion y las preguntas a resolver, podemos empezar.\n",
    "\n"
   ]
  },
  {
   "cell_type": "code",
   "execution_count": 2,
   "metadata": {},
   "outputs": [],
   "source": [
    "#Lo primero que vamos a hacer es importar las librerias\n",
    "\n",
    "import numpy as np\n",
    "import matplotlib.pyplot as plt\n",
    "import pandas as pd"
   ]
  },
  {
   "cell_type": "code",
   "execution_count": 3,
   "metadata": {
    "colab": {
     "base_uri": "https://localhost:8080/",
     "height": 423
    },
    "executionInfo": {
     "elapsed": 887,
     "status": "ok",
     "timestamp": 1742346553108,
     "user": {
      "displayName": "Angel G Diaz E",
      "userId": "00673052882351407026"
     },
     "user_tz": 240
    },
    "id": "XVM7Tuz3ph96",
    "outputId": "c8284786-d3cd-4473-dfd1-b72271c49547"
   },
   "outputs": [
    {
     "data": {
      "application/vnd.microsoft.datawrangler.viewer.v0+json": {
       "columns": [
        {
         "name": "index",
         "rawType": "int64",
         "type": "integer"
        },
        {
         "name": "Cod Inm",
         "rawType": "object",
         "type": "string"
        },
        {
         "name": "Zona",
         "rawType": "object",
         "type": "string"
        },
        {
         "name": "Precio",
         "rawType": "object",
         "type": "unknown"
        },
        {
         "name": "Conj. Residencial",
         "rawType": "object",
         "type": "unknown"
        },
        {
         "name": "Mtrs Const",
         "rawType": "float64",
         "type": "float"
        },
        {
         "name": "Hab",
         "rawType": "int64",
         "type": "integer"
        },
        {
         "name": "Baños",
         "rawType": "int64",
         "type": "integer"
        },
        {
         "name": "P/E",
         "rawType": "int64",
         "type": "integer"
        },
        {
         "name": "C/E",
         "rawType": "object",
         "type": "string"
        },
        {
         "name": "P/electrica",
         "rawType": "object",
         "type": "string"
        },
        {
         "name": "CAPTADOR",
         "rawType": "object",
         "type": "string"
        }
       ],
       "conversionMethod": "pd.DataFrame",
       "ref": "554cca2f-f7e6-4267-ac5f-4eeca212974a",
       "rows": [
        [
         "0",
         "ZI-A1001",
         "San Diego",
         "21000",
         "Valle Topacio",
         "57.0",
         "2",
         "2",
         "1",
         "No",
         "No",
         "Patricia Contreras"
        ],
        [
         "1",
         "ZI-A1002",
         "La Granja",
         "22000",
         "La Paz",
         "90.0",
         "3",
         "2",
         "1",
         "Si",
         "No",
         "Patricia Contreras"
        ],
        [
         "2",
         "ZI-A1018",
         "Trigaleña",
         "VENDIDO",
         "Aria",
         "69.0",
         "2",
         "2",
         "2",
         "Si",
         "Si",
         "Jhonny Belandria"
        ],
        [
         "3",
         "ZI-A1028",
         "La Granja",
         "23500",
         "La Granja",
         "90.0",
         "3",
         "2",
         "1",
         "Si",
         "No",
         "Olga Contreras"
        ],
        [
         "4",
         "ZI-A1029",
         "Prebo PH",
         "45000",
         "Parque Prebo",
         "180.0",
         "4",
         "3",
         "3",
         "Si",
         "Si",
         "Olga Contreras"
        ],
        [
         "5",
         "ZI-A1038",
         "Mañongo",
         "VENDIDO",
         "Valles Jardin",
         "170.0",
         "4",
         "3",
         "2",
         "Si",
         "Si",
         "Patricia Contreras"
        ],
        [
         "6",
         "ZI-A1057",
         "Mañongo",
         "32000",
         "Sun Suite",
         "81.0",
         "3",
         "2",
         "2",
         "Si",
         "No",
         "Olga Contreras"
        ],
        [
         "7",
         "ZI-A1072",
         "Valles de Camoruco",
         "VENDIDO",
         "Nogal",
         "100.0",
         "3",
         "2",
         "2",
         "Si",
         "Si",
         "Patricia Contreras"
        ],
        [
         "8",
         "ZI-A1075",
         "Bosque ",
         "21000",
         "Monticello",
         "59.0",
         "1",
         "1",
         "1",
         "No",
         "Si",
         "Jhonny Belandria"
        ],
        [
         "9",
         "ZI-A1078",
         "Callejon Prebo",
         "18000",
         "Sarait",
         "64.0",
         "2",
         "2",
         "2",
         "Si",
         "No",
         "Gladys Marchena"
        ],
        [
         "10",
         "ZI-A1093",
         "Prebo",
         "15800",
         "Mayabeque",
         "114.0",
         "3",
         "2",
         "1",
         "Si",
         "No",
         "Olga Contreras"
        ],
        [
         "11",
         "ZI-A1094",
         "Rincon",
         "21000",
         "Doral Country",
         "58.0",
         "2",
         "2",
         "1",
         "Si",
         "No",
         "Jhonny Belandria"
        ],
        [
         "12",
         "ZI-A1096",
         "Bosque",
         "98000",
         "Bosque Encantado",
         "286.0",
         "4",
         "6",
         "4",
         "Si",
         "Si",
         "Olga Contreras"
        ],
        [
         "13",
         "ZI-A1105",
         "Mañongo",
         "VENDIDO",
         "Alessandria",
         "208.0",
         "2",
         "2",
         "1",
         "No",
         "Si",
         "Jose Rafael Leon"
        ],
        [
         "14",
         "ZI-A1206",
         "Prebo",
         "SUSPENDIDO",
         "Florencia",
         "776.0",
         "7",
         "6",
         "8",
         "Si",
         "Si",
         "Patricia Contreras"
        ],
        [
         "15",
         "ZI-A1106",
         "Valles de Camoruco",
         "SUSPENDIDO",
         "Bonsai",
         "100.0",
         "3",
         "2",
         "2",
         "Si",
         "Si",
         "David Alvarez"
        ],
        [
         "16",
         "ZI-A1127",
         "Mañongo",
         "VENDIDO",
         "Valle Claro",
         "75.0",
         "2",
         "2",
         "2",
         "Si",
         "Si",
         "Olga Contreras"
        ],
        [
         "17",
         "ZI-A1147",
         "Trigaleña ",
         "155000",
         "Jacaranda",
         "165.0",
         "4",
         "3",
         "3",
         "Si",
         "Si",
         "Olga Contreras"
        ],
        [
         "18",
         "ZI-A1148",
         "Parral",
         "155000",
         "Morisca",
         "180.0",
         "3",
         "3",
         "4",
         "Si",
         "Si",
         "Olga Contreras"
        ],
        [
         "19",
         "ZI-A1149",
         "La Granja",
         "SUSPENDIDO",
         "Don Bosco",
         "79.0",
         "3",
         "2",
         "1",
         "Si",
         "No",
         "Gabriel Salazar"
        ],
        [
         "20",
         "ZI-A1160",
         "Agua Blanca",
         "VENDIDO",
         "Otama",
         "57.0",
         "2",
         "2",
         "1",
         "Si",
         "Si",
         "Jhonny Belandria"
        ],
        [
         "21",
         "ZI-A1163",
         "Chimeneas",
         "35000",
         "Las Chimeneas",
         "80.0",
         "2",
         "2",
         "2",
         "Si",
         "Si",
         "Olga Contreras"
        ],
        [
         "22",
         "ZI-A1169",
         "Trigaleña",
         "VENDIDO",
         "Monte Ararat",
         "103.0",
         "3",
         "2",
         "2",
         "Si",
         "Si",
         "Jhonny Belandria"
        ],
        [
         "23",
         "ZI-A1175",
         "Cuatricentenaria",
         "VENDIDO",
         "Altos del Mirador",
         "67.0",
         "2",
         "2",
         "1",
         "Si",
         "Si",
         "Olga Contreras"
        ],
        [
         "24",
         "ZI-A1190",
         "Parral",
         "VENDIDO",
         "Don Manuel",
         "115.0",
         "3",
         "2",
         "2",
         "Si",
         "No",
         "Mary Rodriguez"
        ],
        [
         "25",
         "ZI-A1191",
         "Prebo",
         "VENDIDO",
         "Rio Grande",
         "59.0",
         "1",
         "1",
         "1",
         "Si",
         "No",
         "Rafael Arevalo"
        ],
        [
         "26",
         "ZI-A1194",
         "Valles de Camoruco",
         "38000",
         "Paraiso F",
         "117.0",
         "4",
         "2",
         "1",
         "Si",
         "No",
         "Patricia Contreras"
        ],
        [
         "27",
         "ZI-A1198",
         "Av. Bolivar",
         "SUSPENDIDO",
         "Pechinenda",
         "118.0",
         "3",
         "2",
         "1",
         "Si",
         "No",
         "Luidmelys Molina"
        ],
        [
         "28",
         "ZI-A1207",
         "Chimeneas",
         "36750",
         "Las Chimeneas",
         "77.0",
         "2",
         "2",
         "2",
         "Si",
         "Si",
         "Betsy Escalona"
        ],
        [
         "29",
         "ZI-A1211",
         "Bella Florida",
         "10500",
         "Las Tapias",
         "59.0",
         "3",
         "1",
         "2",
         "Si",
         "No",
         "Luidmelys Molina"
        ],
        [
         "30",
         "ZI-A1220",
         "Trigaleña",
         "48000",
         "Portales de Shalimar",
         "98.0",
         "3",
         "2",
         "2",
         "Si",
         "Si",
         "Patricia Contreras"
        ],
        [
         "31",
         "ZI-A1221",
         "Valle Blanco",
         "44000",
         "Montaña Blanca",
         "95.0",
         "3",
         "2",
         "2",
         "No",
         "Si",
         "Betsy Escalona"
        ],
        [
         "32",
         "ZI-A1222",
         "Rincon",
         "33000",
         "Doral Country",
         "76.0",
         "3",
         "2",
         "3",
         "Si",
         "No",
         "Rafael Arevalo"
        ],
        [
         "33",
         "ZI-A1223",
         "Trigaleña",
         "VENDIDO",
         "Vanguart",
         "206.0",
         "4",
         "4",
         "6",
         "No",
         "SI",
         "Luidmelys Molina"
        ],
        [
         "34",
         "ZI-A1226",
         "Campiña",
         "20000",
         "Mirabella",
         "93.0",
         "3",
         "2",
         "2",
         "Si",
         "No",
         "Gladys Marchena"
        ],
        [
         "35",
         "ZI-A1230",
         "Parral",
         "VENDIDO",
         "Don Manuel",
         "118.0",
         "3",
         "2",
         "2",
         "Si",
         "No",
         "Luidmelys Molina"
        ],
        [
         "36",
         "ZI-A1232",
         "Tazajal",
         "SUSPENDIDO",
         "Balcones del Viento ",
         "78.0",
         "2",
         "2",
         "1",
         "No",
         "No",
         "Patricia Contreras"
        ],
        [
         "37",
         "ZI-A1233",
         "Trigaleña",
         "SUSPENDIDO",
         "Orobia",
         "124.0",
         "3",
         "2",
         "2",
         "Si",
         "Si",
         "Patricia Contreras"
        ],
        [
         "38",
         "ZI-A1235",
         "Tucacas",
         "26000",
         "Portobello",
         "50.0",
         "1",
         "2",
         "1",
         "Si",
         "Si",
         "Olga Contreras"
        ],
        [
         "39",
         "ZI-A1243",
         "Chimeneas",
         "53000",
         "Mantova",
         "19.0",
         "3",
         "3",
         "2",
         "Si",
         "Si",
         "Olga Contreras"
        ],
        [
         "40",
         "ZI-A1253",
         "Trigaleña",
         "80000",
         "Aria",
         "90.0",
         "3",
         "2",
         "2",
         "Si",
         "Si",
         "Olga Contreras"
        ],
        [
         "41",
         "ZI-A1257",
         "Parral",
         "48000",
         "Utila",
         "94.0",
         "3",
         "2",
         "2",
         "Si",
         "Si",
         "Gladys Marchena"
        ],
        [
         "42",
         "ZI-A1259",
         "San Diego",
         "VENDIDO",
         "Tulipan",
         "56.0",
         "2",
         "1",
         "1",
         "Si",
         "No",
         "Humberto Rodriguez"
        ],
        [
         "43",
         "ZI-A1262",
         "Trigaleña",
         "SUSPENDIDO",
         "Cotoperi",
         "115.0",
         "3",
         "2",
         "2",
         "Si",
         "No",
         "Betsy Escalona"
        ],
        [
         "44",
         "ZI-A1263",
         "San Diego",
         "16800",
         "Montemayor",
         "78.0",
         "3",
         "2",
         "1",
         "No",
         "No",
         "Betsy Escalona"
        ],
        [
         "45",
         "ZI-A1264",
         "Sabana Larga",
         "VENDIDO",
         "Sevilla Real",
         "75.0",
         "2",
         "2",
         "2",
         "Si",
         "Si",
         "Olga Contreras"
        ],
        [
         "46",
         "ZI-A1267",
         "Los Mangos",
         "78000",
         "Kristal I",
         "180.0",
         "5",
         "4",
         "2",
         "Si",
         "Si",
         "Olga Contreras"
        ],
        [
         "47",
         "ZI-A1269",
         "Cuatricentenaria",
         "26000",
         "Isla Centinela",
         "69.0",
         "2",
         "2",
         "2",
         "Si",
         "Si",
         "Patricia Contreras"
        ],
        [
         "48",
         "ZI-A1270",
         "Parral",
         "147000",
         "Gran Tepuy",
         "580.0",
         "5",
         "6",
         "4",
         "Si",
         "Si",
         "Betsy Escalona"
        ],
        [
         "49",
         "ZI-A1271",
         "San Diego",
         "8.000*",
         "Abadia",
         "82.0",
         "3",
         "2",
         "1",
         "No",
         "No",
         "Michell Peña"
        ]
       ],
       "shape": {
        "columns": 11,
        "rows": 140
       }
      },
      "text/html": [
       "<div>\n",
       "<style scoped>\n",
       "    .dataframe tbody tr th:only-of-type {\n",
       "        vertical-align: middle;\n",
       "    }\n",
       "\n",
       "    .dataframe tbody tr th {\n",
       "        vertical-align: top;\n",
       "    }\n",
       "\n",
       "    .dataframe thead th {\n",
       "        text-align: right;\n",
       "    }\n",
       "</style>\n",
       "<table border=\"1\" class=\"dataframe\">\n",
       "  <thead>\n",
       "    <tr style=\"text-align: right;\">\n",
       "      <th></th>\n",
       "      <th>Cod Inm</th>\n",
       "      <th>Zona</th>\n",
       "      <th>Precio</th>\n",
       "      <th>Conj. Residencial</th>\n",
       "      <th>Mtrs Const</th>\n",
       "      <th>Hab</th>\n",
       "      <th>Baños</th>\n",
       "      <th>P/E</th>\n",
       "      <th>C/E</th>\n",
       "      <th>P/electrica</th>\n",
       "      <th>CAPTADOR</th>\n",
       "    </tr>\n",
       "  </thead>\n",
       "  <tbody>\n",
       "    <tr>\n",
       "      <th>0</th>\n",
       "      <td>ZI-A1001</td>\n",
       "      <td>San Diego</td>\n",
       "      <td>21000</td>\n",
       "      <td>Valle Topacio</td>\n",
       "      <td>57.0</td>\n",
       "      <td>2</td>\n",
       "      <td>2</td>\n",
       "      <td>1</td>\n",
       "      <td>No</td>\n",
       "      <td>No</td>\n",
       "      <td>Patricia Contreras</td>\n",
       "    </tr>\n",
       "    <tr>\n",
       "      <th>1</th>\n",
       "      <td>ZI-A1002</td>\n",
       "      <td>La Granja</td>\n",
       "      <td>22000</td>\n",
       "      <td>La Paz</td>\n",
       "      <td>90.0</td>\n",
       "      <td>3</td>\n",
       "      <td>2</td>\n",
       "      <td>1</td>\n",
       "      <td>Si</td>\n",
       "      <td>No</td>\n",
       "      <td>Patricia Contreras</td>\n",
       "    </tr>\n",
       "    <tr>\n",
       "      <th>2</th>\n",
       "      <td>ZI-A1018</td>\n",
       "      <td>Trigaleña</td>\n",
       "      <td>VENDIDO</td>\n",
       "      <td>Aria</td>\n",
       "      <td>69.0</td>\n",
       "      <td>2</td>\n",
       "      <td>2</td>\n",
       "      <td>2</td>\n",
       "      <td>Si</td>\n",
       "      <td>Si</td>\n",
       "      <td>Jhonny Belandria</td>\n",
       "    </tr>\n",
       "    <tr>\n",
       "      <th>3</th>\n",
       "      <td>ZI-A1028</td>\n",
       "      <td>La Granja</td>\n",
       "      <td>23500</td>\n",
       "      <td>La Granja</td>\n",
       "      <td>90.0</td>\n",
       "      <td>3</td>\n",
       "      <td>2</td>\n",
       "      <td>1</td>\n",
       "      <td>Si</td>\n",
       "      <td>No</td>\n",
       "      <td>Olga Contreras</td>\n",
       "    </tr>\n",
       "    <tr>\n",
       "      <th>4</th>\n",
       "      <td>ZI-A1029</td>\n",
       "      <td>Prebo PH</td>\n",
       "      <td>45000</td>\n",
       "      <td>Parque Prebo</td>\n",
       "      <td>180.0</td>\n",
       "      <td>4</td>\n",
       "      <td>3</td>\n",
       "      <td>3</td>\n",
       "      <td>Si</td>\n",
       "      <td>Si</td>\n",
       "      <td>Olga Contreras</td>\n",
       "    </tr>\n",
       "    <tr>\n",
       "      <th>...</th>\n",
       "      <td>...</td>\n",
       "      <td>...</td>\n",
       "      <td>...</td>\n",
       "      <td>...</td>\n",
       "      <td>...</td>\n",
       "      <td>...</td>\n",
       "      <td>...</td>\n",
       "      <td>...</td>\n",
       "      <td>...</td>\n",
       "      <td>...</td>\n",
       "      <td>...</td>\n",
       "    </tr>\n",
       "    <tr>\n",
       "      <th>135</th>\n",
       "      <td>ZI-A1376</td>\n",
       "      <td>San Diego</td>\n",
       "      <td>26000</td>\n",
       "      <td>Valle Topacio</td>\n",
       "      <td>57.0</td>\n",
       "      <td>2</td>\n",
       "      <td>2</td>\n",
       "      <td>1</td>\n",
       "      <td>Si</td>\n",
       "      <td>No</td>\n",
       "      <td>Patricia Contreras</td>\n",
       "    </tr>\n",
       "    <tr>\n",
       "      <th>136</th>\n",
       "      <td>ZI-A1377</td>\n",
       "      <td>San Diego</td>\n",
       "      <td>26500</td>\n",
       "      <td>Valle Topacio</td>\n",
       "      <td>57.0</td>\n",
       "      <td>2</td>\n",
       "      <td>2</td>\n",
       "      <td>1</td>\n",
       "      <td>Si</td>\n",
       "      <td>No</td>\n",
       "      <td>Patricia Contreras</td>\n",
       "    </tr>\n",
       "    <tr>\n",
       "      <th>137</th>\n",
       "      <td>ZI-A1378</td>\n",
       "      <td>San Diego</td>\n",
       "      <td>18000</td>\n",
       "      <td>Terrazas de San Diego</td>\n",
       "      <td>67.0</td>\n",
       "      <td>3</td>\n",
       "      <td>2</td>\n",
       "      <td>1</td>\n",
       "      <td>Si</td>\n",
       "      <td>No</td>\n",
       "      <td>Patricia Contreras</td>\n",
       "    </tr>\n",
       "    <tr>\n",
       "      <th>138</th>\n",
       "      <td>ZI-A1379</td>\n",
       "      <td>San Diego</td>\n",
       "      <td>27000</td>\n",
       "      <td>Terrazas de San Diego (PH)</td>\n",
       "      <td>130.0</td>\n",
       "      <td>4</td>\n",
       "      <td>3</td>\n",
       "      <td>1</td>\n",
       "      <td>Si</td>\n",
       "      <td>No</td>\n",
       "      <td>Patricia Contreras</td>\n",
       "    </tr>\n",
       "    <tr>\n",
       "      <th>139</th>\n",
       "      <td>ZI-A1380</td>\n",
       "      <td>Mañongo</td>\n",
       "      <td>29000</td>\n",
       "      <td>Sun Suite</td>\n",
       "      <td>57.0</td>\n",
       "      <td>2</td>\n",
       "      <td>2</td>\n",
       "      <td>2</td>\n",
       "      <td>Si</td>\n",
       "      <td>No</td>\n",
       "      <td>Patricia Contreras</td>\n",
       "    </tr>\n",
       "  </tbody>\n",
       "</table>\n",
       "<p>140 rows × 11 columns</p>\n",
       "</div>"
      ],
      "text/plain": [
       "      Cod Inm       Zona   Precio           Conj. Residencial  Mtrs Const  \\\n",
       "0    ZI-A1001  San Diego    21000               Valle Topacio        57.0   \n",
       "1    ZI-A1002  La Granja    22000                      La Paz        90.0   \n",
       "2    ZI-A1018  Trigaleña  VENDIDO                        Aria        69.0   \n",
       "3    ZI-A1028  La Granja    23500                   La Granja        90.0   \n",
       "4    ZI-A1029   Prebo PH    45000                Parque Prebo       180.0   \n",
       "..        ...        ...      ...                         ...         ...   \n",
       "135  ZI-A1376  San Diego    26000               Valle Topacio        57.0   \n",
       "136  ZI-A1377  San Diego    26500               Valle Topacio        57.0   \n",
       "137  ZI-A1378  San Diego    18000       Terrazas de San Diego        67.0   \n",
       "138  ZI-A1379  San Diego    27000  Terrazas de San Diego (PH)       130.0   \n",
       "139  ZI-A1380    Mañongo    29000                   Sun Suite        57.0   \n",
       "\n",
       "     Hab  Baños  P/E C/E P/electrica            CAPTADOR  \n",
       "0      2      2    1  No          No  Patricia Contreras  \n",
       "1      3      2    1  Si          No  Patricia Contreras  \n",
       "2      2      2    2  Si          Si    Jhonny Belandria  \n",
       "3      3      2    1  Si          No      Olga Contreras  \n",
       "4      4      3    3  Si          Si      Olga Contreras  \n",
       "..   ...    ...  ...  ..         ...                 ...  \n",
       "135    2      2    1  Si          No  Patricia Contreras  \n",
       "136    2      2    1  Si          No  Patricia Contreras  \n",
       "137    3      2    1  Si          No  Patricia Contreras  \n",
       "138    4      3    1  Si          No  Patricia Contreras  \n",
       "139    2      2    2  Si          No  Patricia Contreras  \n",
       "\n",
       "[140 rows x 11 columns]"
      ]
     },
     "execution_count": 3,
     "metadata": {},
     "output_type": "execute_result"
    }
   ],
   "source": [
    "# Ahora procedemos a importar el dataset a utilizar\n",
    "\n",
    "df = pd.read_excel(\"LISTADO RAPIDO Abril2021.xlsx\", sheet_name='Apartamento')\n",
    "\n",
    "#Y llamamos el dataset para verificar que se haya importado tal como esperamos\n",
    "df"
   ]
  },
  {
   "cell_type": "code",
   "execution_count": 4,
   "metadata": {
    "executionInfo": {
     "elapsed": 13,
     "status": "ok",
     "timestamp": 1742346553113,
     "user": {
      "displayName": "Angel G Diaz E",
      "userId": "00673052882351407026"
     },
     "user_tz": 240
    },
    "id": "emfU-k3dph98"
   },
   "outputs": [],
   "source": [
    "# En el dataset puedo observar que cada fila es un apartamento y cada columna es una caracteristica de este. Entre estas caracteristicas\n",
    "# hay una que es CAPTADOR que indica el nombre de la persona que capturo la informacion de cada apartamento. En este proyecto no es importante\n",
    "# el nombre como tal, pero si me interesa esta columna, para posteriormente realizar un dashboard en el que se pueda filtrar por captador.\n",
    "# Por lo tanto, voy a reemplazar cada valor unico del nombre de los captadores por 'captador1, captador2' y asi.\\\n",
    "\n",
    "#Para esto primero tengo que tener en una variable cuantos captadores hay\n",
    "captadores_unicos = df['CAPTADOR'].unique()\n",
    "\n",
    "#Luego, voy a crear un diccionario que reemplace los nombres por captador1, captador2, etc.\n",
    "mapeo = {valor:f'captador{i+1}' for i, valor in enumerate(captadores_unicos)}\n",
    "\n",
    "#Ahora reemplazo los valores originales de la columna CAPTADOR por los nuevos valores.\n",
    "\n",
    "df['CAPTADOR'] = df['CAPTADOR'].map(mapeo)\n"
   ]
  },
  {
   "cell_type": "code",
   "execution_count": 5,
   "metadata": {
    "colab": {
     "base_uri": "https://localhost:8080/",
     "height": 423
    },
    "executionInfo": {
     "elapsed": 89,
     "status": "ok",
     "timestamp": 1742346553193,
     "user": {
      "displayName": "Angel G Diaz E",
      "userId": "00673052882351407026"
     },
     "user_tz": 240
    },
    "id": "4H-w7czbph9-",
    "outputId": "f9e5274e-3a83-46e3-df42-1118b5d01d67"
   },
   "outputs": [
    {
     "data": {
      "application/vnd.microsoft.datawrangler.viewer.v0+json": {
       "columns": [
        {
         "name": "index",
         "rawType": "int64",
         "type": "integer"
        },
        {
         "name": "Cod Inm",
         "rawType": "object",
         "type": "string"
        },
        {
         "name": "Zona",
         "rawType": "object",
         "type": "string"
        },
        {
         "name": "Precio",
         "rawType": "object",
         "type": "unknown"
        },
        {
         "name": "Conj. Residencial",
         "rawType": "object",
         "type": "unknown"
        },
        {
         "name": "Mtrs Const",
         "rawType": "float64",
         "type": "float"
        },
        {
         "name": "Hab",
         "rawType": "int64",
         "type": "integer"
        },
        {
         "name": "Baños",
         "rawType": "int64",
         "type": "integer"
        },
        {
         "name": "P/E",
         "rawType": "int64",
         "type": "integer"
        },
        {
         "name": "C/E",
         "rawType": "object",
         "type": "string"
        },
        {
         "name": "P/electrica",
         "rawType": "object",
         "type": "string"
        },
        {
         "name": "CAPTADOR",
         "rawType": "object",
         "type": "string"
        }
       ],
       "conversionMethod": "pd.DataFrame",
       "ref": "be3d1624-ba87-40cd-9c8a-46366678403b",
       "rows": [
        [
         "0",
         "ZI-A1001",
         "San Diego",
         "21000",
         "Valle Topacio",
         "57.0",
         "2",
         "2",
         "1",
         "No",
         "No",
         "captador1"
        ],
        [
         "1",
         "ZI-A1002",
         "La Granja",
         "22000",
         "La Paz",
         "90.0",
         "3",
         "2",
         "1",
         "Si",
         "No",
         "captador1"
        ],
        [
         "2",
         "ZI-A1018",
         "Trigaleña",
         "VENDIDO",
         "Aria",
         "69.0",
         "2",
         "2",
         "2",
         "Si",
         "Si",
         "captador2"
        ],
        [
         "3",
         "ZI-A1028",
         "La Granja",
         "23500",
         "La Granja",
         "90.0",
         "3",
         "2",
         "1",
         "Si",
         "No",
         "captador3"
        ],
        [
         "4",
         "ZI-A1029",
         "Prebo PH",
         "45000",
         "Parque Prebo",
         "180.0",
         "4",
         "3",
         "3",
         "Si",
         "Si",
         "captador3"
        ],
        [
         "5",
         "ZI-A1038",
         "Mañongo",
         "VENDIDO",
         "Valles Jardin",
         "170.0",
         "4",
         "3",
         "2",
         "Si",
         "Si",
         "captador1"
        ],
        [
         "6",
         "ZI-A1057",
         "Mañongo",
         "32000",
         "Sun Suite",
         "81.0",
         "3",
         "2",
         "2",
         "Si",
         "No",
         "captador3"
        ],
        [
         "7",
         "ZI-A1072",
         "Valles de Camoruco",
         "VENDIDO",
         "Nogal",
         "100.0",
         "3",
         "2",
         "2",
         "Si",
         "Si",
         "captador1"
        ],
        [
         "8",
         "ZI-A1075",
         "Bosque ",
         "21000",
         "Monticello",
         "59.0",
         "1",
         "1",
         "1",
         "No",
         "Si",
         "captador2"
        ],
        [
         "9",
         "ZI-A1078",
         "Callejon Prebo",
         "18000",
         "Sarait",
         "64.0",
         "2",
         "2",
         "2",
         "Si",
         "No",
         "captador4"
        ],
        [
         "10",
         "ZI-A1093",
         "Prebo",
         "15800",
         "Mayabeque",
         "114.0",
         "3",
         "2",
         "1",
         "Si",
         "No",
         "captador3"
        ],
        [
         "11",
         "ZI-A1094",
         "Rincon",
         "21000",
         "Doral Country",
         "58.0",
         "2",
         "2",
         "1",
         "Si",
         "No",
         "captador2"
        ],
        [
         "12",
         "ZI-A1096",
         "Bosque",
         "98000",
         "Bosque Encantado",
         "286.0",
         "4",
         "6",
         "4",
         "Si",
         "Si",
         "captador3"
        ],
        [
         "13",
         "ZI-A1105",
         "Mañongo",
         "VENDIDO",
         "Alessandria",
         "208.0",
         "2",
         "2",
         "1",
         "No",
         "Si",
         "captador5"
        ],
        [
         "14",
         "ZI-A1206",
         "Prebo",
         "SUSPENDIDO",
         "Florencia",
         "776.0",
         "7",
         "6",
         "8",
         "Si",
         "Si",
         "captador1"
        ],
        [
         "15",
         "ZI-A1106",
         "Valles de Camoruco",
         "SUSPENDIDO",
         "Bonsai",
         "100.0",
         "3",
         "2",
         "2",
         "Si",
         "Si",
         "captador6"
        ],
        [
         "16",
         "ZI-A1127",
         "Mañongo",
         "VENDIDO",
         "Valle Claro",
         "75.0",
         "2",
         "2",
         "2",
         "Si",
         "Si",
         "captador3"
        ],
        [
         "17",
         "ZI-A1147",
         "Trigaleña ",
         "155000",
         "Jacaranda",
         "165.0",
         "4",
         "3",
         "3",
         "Si",
         "Si",
         "captador3"
        ],
        [
         "18",
         "ZI-A1148",
         "Parral",
         "155000",
         "Morisca",
         "180.0",
         "3",
         "3",
         "4",
         "Si",
         "Si",
         "captador3"
        ],
        [
         "19",
         "ZI-A1149",
         "La Granja",
         "SUSPENDIDO",
         "Don Bosco",
         "79.0",
         "3",
         "2",
         "1",
         "Si",
         "No",
         "captador7"
        ],
        [
         "20",
         "ZI-A1160",
         "Agua Blanca",
         "VENDIDO",
         "Otama",
         "57.0",
         "2",
         "2",
         "1",
         "Si",
         "Si",
         "captador2"
        ],
        [
         "21",
         "ZI-A1163",
         "Chimeneas",
         "35000",
         "Las Chimeneas",
         "80.0",
         "2",
         "2",
         "2",
         "Si",
         "Si",
         "captador3"
        ],
        [
         "22",
         "ZI-A1169",
         "Trigaleña",
         "VENDIDO",
         "Monte Ararat",
         "103.0",
         "3",
         "2",
         "2",
         "Si",
         "Si",
         "captador2"
        ],
        [
         "23",
         "ZI-A1175",
         "Cuatricentenaria",
         "VENDIDO",
         "Altos del Mirador",
         "67.0",
         "2",
         "2",
         "1",
         "Si",
         "Si",
         "captador3"
        ],
        [
         "24",
         "ZI-A1190",
         "Parral",
         "VENDIDO",
         "Don Manuel",
         "115.0",
         "3",
         "2",
         "2",
         "Si",
         "No",
         "captador8"
        ],
        [
         "25",
         "ZI-A1191",
         "Prebo",
         "VENDIDO",
         "Rio Grande",
         "59.0",
         "1",
         "1",
         "1",
         "Si",
         "No",
         "captador9"
        ],
        [
         "26",
         "ZI-A1194",
         "Valles de Camoruco",
         "38000",
         "Paraiso F",
         "117.0",
         "4",
         "2",
         "1",
         "Si",
         "No",
         "captador1"
        ],
        [
         "27",
         "ZI-A1198",
         "Av. Bolivar",
         "SUSPENDIDO",
         "Pechinenda",
         "118.0",
         "3",
         "2",
         "1",
         "Si",
         "No",
         "captador10"
        ],
        [
         "28",
         "ZI-A1207",
         "Chimeneas",
         "36750",
         "Las Chimeneas",
         "77.0",
         "2",
         "2",
         "2",
         "Si",
         "Si",
         "captador11"
        ],
        [
         "29",
         "ZI-A1211",
         "Bella Florida",
         "10500",
         "Las Tapias",
         "59.0",
         "3",
         "1",
         "2",
         "Si",
         "No",
         "captador10"
        ],
        [
         "30",
         "ZI-A1220",
         "Trigaleña",
         "48000",
         "Portales de Shalimar",
         "98.0",
         "3",
         "2",
         "2",
         "Si",
         "Si",
         "captador1"
        ],
        [
         "31",
         "ZI-A1221",
         "Valle Blanco",
         "44000",
         "Montaña Blanca",
         "95.0",
         "3",
         "2",
         "2",
         "No",
         "Si",
         "captador11"
        ],
        [
         "32",
         "ZI-A1222",
         "Rincon",
         "33000",
         "Doral Country",
         "76.0",
         "3",
         "2",
         "3",
         "Si",
         "No",
         "captador9"
        ],
        [
         "33",
         "ZI-A1223",
         "Trigaleña",
         "VENDIDO",
         "Vanguart",
         "206.0",
         "4",
         "4",
         "6",
         "No",
         "SI",
         "captador10"
        ],
        [
         "34",
         "ZI-A1226",
         "Campiña",
         "20000",
         "Mirabella",
         "93.0",
         "3",
         "2",
         "2",
         "Si",
         "No",
         "captador4"
        ],
        [
         "35",
         "ZI-A1230",
         "Parral",
         "VENDIDO",
         "Don Manuel",
         "118.0",
         "3",
         "2",
         "2",
         "Si",
         "No",
         "captador10"
        ],
        [
         "36",
         "ZI-A1232",
         "Tazajal",
         "SUSPENDIDO",
         "Balcones del Viento ",
         "78.0",
         "2",
         "2",
         "1",
         "No",
         "No",
         "captador1"
        ],
        [
         "37",
         "ZI-A1233",
         "Trigaleña",
         "SUSPENDIDO",
         "Orobia",
         "124.0",
         "3",
         "2",
         "2",
         "Si",
         "Si",
         "captador1"
        ],
        [
         "38",
         "ZI-A1235",
         "Tucacas",
         "26000",
         "Portobello",
         "50.0",
         "1",
         "2",
         "1",
         "Si",
         "Si",
         "captador3"
        ],
        [
         "39",
         "ZI-A1243",
         "Chimeneas",
         "53000",
         "Mantova",
         "19.0",
         "3",
         "3",
         "2",
         "Si",
         "Si",
         "captador3"
        ],
        [
         "40",
         "ZI-A1253",
         "Trigaleña",
         "80000",
         "Aria",
         "90.0",
         "3",
         "2",
         "2",
         "Si",
         "Si",
         "captador3"
        ],
        [
         "41",
         "ZI-A1257",
         "Parral",
         "48000",
         "Utila",
         "94.0",
         "3",
         "2",
         "2",
         "Si",
         "Si",
         "captador4"
        ],
        [
         "42",
         "ZI-A1259",
         "San Diego",
         "VENDIDO",
         "Tulipan",
         "56.0",
         "2",
         "1",
         "1",
         "Si",
         "No",
         "captador12"
        ],
        [
         "43",
         "ZI-A1262",
         "Trigaleña",
         "SUSPENDIDO",
         "Cotoperi",
         "115.0",
         "3",
         "2",
         "2",
         "Si",
         "No",
         "captador11"
        ],
        [
         "44",
         "ZI-A1263",
         "San Diego",
         "16800",
         "Montemayor",
         "78.0",
         "3",
         "2",
         "1",
         "No",
         "No",
         "captador11"
        ],
        [
         "45",
         "ZI-A1264",
         "Sabana Larga",
         "VENDIDO",
         "Sevilla Real",
         "75.0",
         "2",
         "2",
         "2",
         "Si",
         "Si",
         "captador3"
        ],
        [
         "46",
         "ZI-A1267",
         "Los Mangos",
         "78000",
         "Kristal I",
         "180.0",
         "5",
         "4",
         "2",
         "Si",
         "Si",
         "captador3"
        ],
        [
         "47",
         "ZI-A1269",
         "Cuatricentenaria",
         "26000",
         "Isla Centinela",
         "69.0",
         "2",
         "2",
         "2",
         "Si",
         "Si",
         "captador1"
        ],
        [
         "48",
         "ZI-A1270",
         "Parral",
         "147000",
         "Gran Tepuy",
         "580.0",
         "5",
         "6",
         "4",
         "Si",
         "Si",
         "captador11"
        ],
        [
         "49",
         "ZI-A1271",
         "San Diego",
         "8.000*",
         "Abadia",
         "82.0",
         "3",
         "2",
         "1",
         "No",
         "No",
         "captador13"
        ]
       ],
       "shape": {
        "columns": 11,
        "rows": 140
       }
      },
      "text/html": [
       "<div>\n",
       "<style scoped>\n",
       "    .dataframe tbody tr th:only-of-type {\n",
       "        vertical-align: middle;\n",
       "    }\n",
       "\n",
       "    .dataframe tbody tr th {\n",
       "        vertical-align: top;\n",
       "    }\n",
       "\n",
       "    .dataframe thead th {\n",
       "        text-align: right;\n",
       "    }\n",
       "</style>\n",
       "<table border=\"1\" class=\"dataframe\">\n",
       "  <thead>\n",
       "    <tr style=\"text-align: right;\">\n",
       "      <th></th>\n",
       "      <th>Cod Inm</th>\n",
       "      <th>Zona</th>\n",
       "      <th>Precio</th>\n",
       "      <th>Conj. Residencial</th>\n",
       "      <th>Mtrs Const</th>\n",
       "      <th>Hab</th>\n",
       "      <th>Baños</th>\n",
       "      <th>P/E</th>\n",
       "      <th>C/E</th>\n",
       "      <th>P/electrica</th>\n",
       "      <th>CAPTADOR</th>\n",
       "    </tr>\n",
       "  </thead>\n",
       "  <tbody>\n",
       "    <tr>\n",
       "      <th>0</th>\n",
       "      <td>ZI-A1001</td>\n",
       "      <td>San Diego</td>\n",
       "      <td>21000</td>\n",
       "      <td>Valle Topacio</td>\n",
       "      <td>57.0</td>\n",
       "      <td>2</td>\n",
       "      <td>2</td>\n",
       "      <td>1</td>\n",
       "      <td>No</td>\n",
       "      <td>No</td>\n",
       "      <td>captador1</td>\n",
       "    </tr>\n",
       "    <tr>\n",
       "      <th>1</th>\n",
       "      <td>ZI-A1002</td>\n",
       "      <td>La Granja</td>\n",
       "      <td>22000</td>\n",
       "      <td>La Paz</td>\n",
       "      <td>90.0</td>\n",
       "      <td>3</td>\n",
       "      <td>2</td>\n",
       "      <td>1</td>\n",
       "      <td>Si</td>\n",
       "      <td>No</td>\n",
       "      <td>captador1</td>\n",
       "    </tr>\n",
       "    <tr>\n",
       "      <th>2</th>\n",
       "      <td>ZI-A1018</td>\n",
       "      <td>Trigaleña</td>\n",
       "      <td>VENDIDO</td>\n",
       "      <td>Aria</td>\n",
       "      <td>69.0</td>\n",
       "      <td>2</td>\n",
       "      <td>2</td>\n",
       "      <td>2</td>\n",
       "      <td>Si</td>\n",
       "      <td>Si</td>\n",
       "      <td>captador2</td>\n",
       "    </tr>\n",
       "    <tr>\n",
       "      <th>3</th>\n",
       "      <td>ZI-A1028</td>\n",
       "      <td>La Granja</td>\n",
       "      <td>23500</td>\n",
       "      <td>La Granja</td>\n",
       "      <td>90.0</td>\n",
       "      <td>3</td>\n",
       "      <td>2</td>\n",
       "      <td>1</td>\n",
       "      <td>Si</td>\n",
       "      <td>No</td>\n",
       "      <td>captador3</td>\n",
       "    </tr>\n",
       "    <tr>\n",
       "      <th>4</th>\n",
       "      <td>ZI-A1029</td>\n",
       "      <td>Prebo PH</td>\n",
       "      <td>45000</td>\n",
       "      <td>Parque Prebo</td>\n",
       "      <td>180.0</td>\n",
       "      <td>4</td>\n",
       "      <td>3</td>\n",
       "      <td>3</td>\n",
       "      <td>Si</td>\n",
       "      <td>Si</td>\n",
       "      <td>captador3</td>\n",
       "    </tr>\n",
       "    <tr>\n",
       "      <th>...</th>\n",
       "      <td>...</td>\n",
       "      <td>...</td>\n",
       "      <td>...</td>\n",
       "      <td>...</td>\n",
       "      <td>...</td>\n",
       "      <td>...</td>\n",
       "      <td>...</td>\n",
       "      <td>...</td>\n",
       "      <td>...</td>\n",
       "      <td>...</td>\n",
       "      <td>...</td>\n",
       "    </tr>\n",
       "    <tr>\n",
       "      <th>135</th>\n",
       "      <td>ZI-A1376</td>\n",
       "      <td>San Diego</td>\n",
       "      <td>26000</td>\n",
       "      <td>Valle Topacio</td>\n",
       "      <td>57.0</td>\n",
       "      <td>2</td>\n",
       "      <td>2</td>\n",
       "      <td>1</td>\n",
       "      <td>Si</td>\n",
       "      <td>No</td>\n",
       "      <td>captador1</td>\n",
       "    </tr>\n",
       "    <tr>\n",
       "      <th>136</th>\n",
       "      <td>ZI-A1377</td>\n",
       "      <td>San Diego</td>\n",
       "      <td>26500</td>\n",
       "      <td>Valle Topacio</td>\n",
       "      <td>57.0</td>\n",
       "      <td>2</td>\n",
       "      <td>2</td>\n",
       "      <td>1</td>\n",
       "      <td>Si</td>\n",
       "      <td>No</td>\n",
       "      <td>captador1</td>\n",
       "    </tr>\n",
       "    <tr>\n",
       "      <th>137</th>\n",
       "      <td>ZI-A1378</td>\n",
       "      <td>San Diego</td>\n",
       "      <td>18000</td>\n",
       "      <td>Terrazas de San Diego</td>\n",
       "      <td>67.0</td>\n",
       "      <td>3</td>\n",
       "      <td>2</td>\n",
       "      <td>1</td>\n",
       "      <td>Si</td>\n",
       "      <td>No</td>\n",
       "      <td>captador1</td>\n",
       "    </tr>\n",
       "    <tr>\n",
       "      <th>138</th>\n",
       "      <td>ZI-A1379</td>\n",
       "      <td>San Diego</td>\n",
       "      <td>27000</td>\n",
       "      <td>Terrazas de San Diego (PH)</td>\n",
       "      <td>130.0</td>\n",
       "      <td>4</td>\n",
       "      <td>3</td>\n",
       "      <td>1</td>\n",
       "      <td>Si</td>\n",
       "      <td>No</td>\n",
       "      <td>captador1</td>\n",
       "    </tr>\n",
       "    <tr>\n",
       "      <th>139</th>\n",
       "      <td>ZI-A1380</td>\n",
       "      <td>Mañongo</td>\n",
       "      <td>29000</td>\n",
       "      <td>Sun Suite</td>\n",
       "      <td>57.0</td>\n",
       "      <td>2</td>\n",
       "      <td>2</td>\n",
       "      <td>2</td>\n",
       "      <td>Si</td>\n",
       "      <td>No</td>\n",
       "      <td>captador1</td>\n",
       "    </tr>\n",
       "  </tbody>\n",
       "</table>\n",
       "<p>140 rows × 11 columns</p>\n",
       "</div>"
      ],
      "text/plain": [
       "      Cod Inm       Zona   Precio           Conj. Residencial  Mtrs Const  \\\n",
       "0    ZI-A1001  San Diego    21000               Valle Topacio        57.0   \n",
       "1    ZI-A1002  La Granja    22000                      La Paz        90.0   \n",
       "2    ZI-A1018  Trigaleña  VENDIDO                        Aria        69.0   \n",
       "3    ZI-A1028  La Granja    23500                   La Granja        90.0   \n",
       "4    ZI-A1029   Prebo PH    45000                Parque Prebo       180.0   \n",
       "..        ...        ...      ...                         ...         ...   \n",
       "135  ZI-A1376  San Diego    26000               Valle Topacio        57.0   \n",
       "136  ZI-A1377  San Diego    26500               Valle Topacio        57.0   \n",
       "137  ZI-A1378  San Diego    18000       Terrazas de San Diego        67.0   \n",
       "138  ZI-A1379  San Diego    27000  Terrazas de San Diego (PH)       130.0   \n",
       "139  ZI-A1380    Mañongo    29000                   Sun Suite        57.0   \n",
       "\n",
       "     Hab  Baños  P/E C/E P/electrica   CAPTADOR  \n",
       "0      2      2    1  No          No  captador1  \n",
       "1      3      2    1  Si          No  captador1  \n",
       "2      2      2    2  Si          Si  captador2  \n",
       "3      3      2    1  Si          No  captador3  \n",
       "4      4      3    3  Si          Si  captador3  \n",
       "..   ...    ...  ...  ..         ...        ...  \n",
       "135    2      2    1  Si          No  captador1  \n",
       "136    2      2    1  Si          No  captador1  \n",
       "137    3      2    1  Si          No  captador1  \n",
       "138    4      3    1  Si          No  captador1  \n",
       "139    2      2    2  Si          No  captador1  \n",
       "\n",
       "[140 rows x 11 columns]"
      ]
     },
     "execution_count": 5,
     "metadata": {},
     "output_type": "execute_result"
    }
   ],
   "source": [
    "#Y se muestra el df para verificar que se haya hecho el cambio correctamente.\n",
    "df"
   ]
  },
  {
   "cell_type": "code",
   "execution_count": 6,
   "metadata": {
    "colab": {
     "base_uri": "https://localhost:8080/"
    },
    "executionInfo": {
     "elapsed": 21,
     "status": "ok",
     "timestamp": 1742346553212,
     "user": {
      "displayName": "Angel G Diaz E",
      "userId": "00673052882351407026"
     },
     "user_tz": 240
    },
    "id": "yTrWxjtntpDA",
    "outputId": "4cc58f15-8255-45cb-c2fe-1f9d9b90d817"
   },
   "outputs": [
    {
     "data": {
      "text/plain": [
       "array([21000, 22000, 23500, 45000, 32000, 18000, 15800, 98000, 155000,\n",
       "       35000, 38000, 36750, 10500, 48000, 44000, 33000, 20000, 26000,\n",
       "       53000, 80000, 16800, 78000, 147000, '8.000*', 40000, 28000, 30000,\n",
       "       95000, 9500, 22500, 28500, 14800, 23000, 52000, 55000, 50000,\n",
       "       16900, 160000, 16000, 25000, 31500, 11000, 24800, 150000, 99750,\n",
       "       17000, 19000, 29500, 26900, 8300, 7300, 12900, 38500, 15500, 29000,\n",
       "       18500, 61500, 49500, 85000, 36000, 26500, 27000], dtype=object)"
      ]
     },
     "execution_count": 6,
     "metadata": {},
     "output_type": "execute_result"
    }
   ],
   "source": [
    "#Luego se ve que en la columna de 'Precio' hay valores de texto. Se van a llamar\n",
    "#los valores unicos de esta columna para verificar que textos unicos hay realmente\n",
    "df['Precio'].unique()\n",
    "\n",
    "#Por lo visto solo hay tres, 'VENDIDO', 'SUSPENDIDO' e 'INACTIO'.\n",
    "#Para efectos del proyecto estos valores no me sirven de nada. Por lo tanto los\n",
    "#voy a eliminar\n",
    "\n",
    "df = df[df['Precio'] != 'VENDIDO'] #Eliminar las filas con el valor 'VENDIDO'\n",
    "\n",
    "df = df[df['Precio'] != 'SUSPENDIDO'] #Eliminar las filas con el valor 'SUSPENDIDO'\n",
    "\n",
    "df = df[df['Precio'] != 'INACTIO'] #Eliminas las filas con el valor 'INACTIO'\n",
    "\n",
    "#Ahora veamos nuevamente los valores unicos del dataset para validar si no hay\n",
    "#ningun valor de texto\n",
    "\n",
    "df['Precio'].unique()\n",
    "\n"
   ]
  },
  {
   "cell_type": "code",
   "execution_count": 7,
   "metadata": {
    "colab": {
     "base_uri": "https://localhost:8080/"
    },
    "executionInfo": {
     "elapsed": 17,
     "status": "ok",
     "timestamp": 1742346553224,
     "user": {
      "displayName": "Angel G Diaz E",
      "userId": "00673052882351407026"
     },
     "user_tz": 240
    },
    "id": "8kxIHlVvph-A",
    "outputId": "bd48dd79-426d-44a8-e843-65369550f14b"
   },
   "outputs": [
    {
     "data": {
      "text/plain": [
       "array([21000, 22000, 23500, 45000, 32000, 18000, 15800, 98000, 155000,\n",
       "       35000, 38000, 36750, 10500, 48000, 44000, 33000, 20000, 26000,\n",
       "       53000, 80000, 16800, 78000, 147000, 8000, 40000, 28000, 30000,\n",
       "       95000, 9500, 22500, 28500, 14800, 23000, 52000, 55000, 50000,\n",
       "       16900, 160000, 16000, 25000, 31500, 11000, 24800, 150000, 99750,\n",
       "       17000, 19000, 29500, 26900, 8300, 7300, 12900, 38500, 15500, 29000,\n",
       "       18500, 61500, 49500, 85000, 36000, 26500, 27000], dtype=object)"
      ]
     },
     "execution_count": 7,
     "metadata": {},
     "output_type": "execute_result"
    }
   ],
   "source": [
    "#El unico valor que queda como string es una fila con el valor '8.000*'\n",
    "#Voy a tomar este valor como si fuera verdaderamente 8000, por lo que voy\n",
    "#a editar este valor para transformarlo de string a entero\n",
    "\n",
    "df.loc[df['Precio'] == '8.000*','Precio'] = 8000\n",
    "\n",
    "#Ahora veamos si los cambios se efectuaron correctamente\n",
    "\n",
    "df['Precio'].unique()"
   ]
  },
  {
   "cell_type": "code",
   "execution_count": 8,
   "metadata": {
    "colab": {
     "base_uri": "https://localhost:8080/"
    },
    "executionInfo": {
     "elapsed": 9,
     "status": "ok",
     "timestamp": 1742346553235,
     "user": {
      "displayName": "Angel G Diaz E",
      "userId": "00673052882351407026"
     },
     "user_tz": 240
    },
    "id": "_QwEm_VyyTQM",
    "outputId": "c3b28f5b-d4b2-41f8-fcf6-b6aac2548d66"
   },
   "outputs": [
    {
     "name": "stdout",
     "output_type": "stream",
     "text": [
      "<class 'pandas.core.frame.DataFrame'>\n",
      "Index: 95 entries, 0 to 139\n",
      "Data columns (total 11 columns):\n",
      " #   Column             Non-Null Count  Dtype  \n",
      "---  ------             --------------  -----  \n",
      " 0   Cod Inm            95 non-null     object \n",
      " 1   Zona               95 non-null     object \n",
      " 2   Precio             95 non-null     int64  \n",
      " 3   Conj. Residencial  93 non-null     object \n",
      " 4   Mtrs Const         93 non-null     float64\n",
      " 5   Hab                95 non-null     int64  \n",
      " 6   Baños              95 non-null     int64  \n",
      " 7   P/E                95 non-null     int64  \n",
      " 8   C/E                95 non-null     object \n",
      " 9   P/electrica        95 non-null     object \n",
      " 10  CAPTADOR           95 non-null     object \n",
      "dtypes: float64(1), int64(4), object(6)\n",
      "memory usage: 8.9+ KB\n"
     ]
    }
   ],
   "source": [
    "#Ya no hay ningun valor de tipo texto en la colummna 'Precio'.\n",
    "#Sin embargo, el tipo de datos de esta columna aun no es entero, por lo tanto\n",
    "#voy a cambiar el tipo de dato de esta columna\n",
    "\n",
    "df['Precio'] = df['Precio'].astype(int) #Para transformar esta columna de tipo entero\n",
    "\n",
    "#Ahora veamos como quedo el tipo de dato de cada columna\n",
    "\n",
    "df.info()\n",
    "\n",
    "#Excelente!!\n",
    "#Ahora todas las columnas tienen el tipo de dato que se requiere."
   ]
  },
  {
   "cell_type": "code",
   "execution_count": 9,
   "metadata": {
    "executionInfo": {
     "elapsed": 2,
     "status": "ok",
     "timestamp": 1742346553239,
     "user": {
      "displayName": "Angel G Diaz E",
      "userId": "00673052882351407026"
     },
     "user_tz": 240
    },
    "id": "gMIUWADHzMOG"
   },
   "outputs": [],
   "source": [
    "#Se puede ver que la columna donde indica los metros de y el conjunto residencial\n",
    "#Tienen solamente dos valores nulos. Es decir, tiene 93 valores no nulos, en vez de\n",
    "#los 95 valores no nulos del resto de las columnas. En esta celda veremos ambas\n",
    "#cuestiones.\n",
    "\n",
    "#df.drop(columns=['Conj. Residencial'], inplace=True) #Columna 'Conj.Residencial' eliminada\n",
    "\n",
    "df.dropna(inplace=True)\n",
    "#Tomando en cuenta de que solamente eran dos valores nulos, se eliminaron\n",
    "#esos dos valores del dataset. No creo que sean tan relevantes para el modelo"
   ]
  },
  {
   "cell_type": "code",
   "execution_count": 10,
   "metadata": {
    "colab": {
     "base_uri": "https://localhost:8080/",
     "height": 429
    },
    "executionInfo": {
     "elapsed": 31,
     "status": "ok",
     "timestamp": 1742346553340,
     "user": {
      "displayName": "Angel G Diaz E",
      "userId": "00673052882351407026"
     },
     "user_tz": 240
    },
    "id": "1OjbeAHr27TN",
    "outputId": "0d527a18-4c93-4b7b-b9b5-a586e78e0363"
   },
   "outputs": [
    {
     "data": {
      "text/plain": [
       "Cod Inm              0\n",
       "Zona                 0\n",
       "Precio               0\n",
       "Conj. Residencial    0\n",
       "Mtrs Const           0\n",
       "Hab                  0\n",
       "Baños                0\n",
       "P/E                  0\n",
       "C/E                  0\n",
       "P/electrica          0\n",
       "CAPTADOR             0\n",
       "dtype: int64"
      ]
     },
     "execution_count": 10,
     "metadata": {},
     "output_type": "execute_result"
    }
   ],
   "source": [
    "#Verifiquemmos nuevamente la informacion del dataset\n",
    "df.isnull().sum()\n",
    "\n",
    "#No hay valores nulos"
   ]
  },
  {
   "cell_type": "code",
   "execution_count": 11,
   "metadata": {},
   "outputs": [],
   "source": [
    "#Exportar el dataset limpio a un nuevo archivo de excel\n",
    "\n",
    "df.to_excel(\"apartamentos_valencia.xlsx\", index=False)"
   ]
  },
  {
   "cell_type": "markdown",
   "metadata": {
    "id": "K2G_wTa59T2m"
   },
   "source": [
    "## Ya se completo la seccion de la limpieza de los datos\n",
    "\n",
    "Ahora se va a comenzar con el analisis exploratorio de los datos, lo que tambien\n",
    "puede ser las preguntas que se propusieron al inicio del proyecto:\n",
    "\n",
    "    * El precio maximo, minimo y promedio de las viviendas manejadas\n",
    "    * Cantidad de inmuebles y precio por zona\n",
    "    * La distribucion, o cantidad, de viviendas captadas por cada zona.\n",
    "    * La distribucion de propiedades captadas por cada ejecutivo."
   ]
  },
  {
   "cell_type": "code",
   "execution_count": 10,
   "metadata": {
    "executionInfo": {
     "elapsed": 61,
     "status": "ok",
     "timestamp": 1742346553395,
     "user": {
      "displayName": "Angel G Diaz E",
      "userId": "00673052882351407026"
     },
     "user_tz": 240
    },
    "id": "0LL-pZWB9het"
   },
   "outputs": [],
   "source": [
    "#Vamos a empezar por averiguar la cantidad de inmuebles y el promedio del precio\n",
    "#por cada zona\n",
    "\n",
    "cantidad_promedio = df.groupby('Zona')['Precio'].agg(\n",
    "    Cantidad='count',\n",
    "    Promedio=lambda x: round(x.mean(),2)\n",
    ").sort_values(by='Cantidad')"
   ]
  },
  {
   "cell_type": "code",
   "execution_count": 11,
   "metadata": {
    "colab": {
     "base_uri": "https://localhost:8080/",
     "height": 595
    },
    "executionInfo": {
     "elapsed": 598,
     "status": "ok",
     "timestamp": 1742346553935,
     "user": {
      "displayName": "Angel G Diaz E",
      "userId": "00673052882351407026"
     },
     "user_tz": 240
    },
    "id": "-1jzHNmRjW_K",
    "outputId": "9b1ee018-430a-4200-ab22-b0e2448f40c6"
   },
   "outputs": [
    {
     "data": {
      "image/png": "[encoded data removed]",
      "text/plain": [
       "<Figure size 640x480 with 1 Axes>"
      ]
     },
     "metadata": {},
     "output_type": "display_data"
    }
   ],
   "source": [
    "#y con la variable creada anteriormente quiero crear un grafico de barras\n",
    "#o tambien histograma\n",
    "\n",
    "plt.bar(cantidad_promedio.index, cantidad_promedio['Cantidad'])\n",
    "plt.xlabel('Zona')\n",
    "plt.ylabel('Cantidad de propiedades')\n",
    "plt.title('Cantidad de propiedades por zona')\n",
    "plt.xticks(rotation=90)\n",
    "\n",
    "for i,v in enumerate(cantidad_promedio['Cantidad']):\n",
    "  plt.annotate(str(v), xy=(i,v), ha='center', va='bottom')\n",
    "\n",
    "plt.show()"
   ]
  },
  {
   "cell_type": "markdown",
   "metadata": {
    "id": "mtDgCj-8ncBr"
   },
   "source": [
    "En el grafico anterior se puede observar que las zonas con mayor cantidad de propiedades captadas estan en San Diego, La Trigaleña, Chimeneas y Parral. Conn 15, 13, 10 y 8 inmuebles captados respectivamente\n"
   ]
  },
  {
   "cell_type": "code",
   "execution_count": 12,
   "metadata": {
    "colab": {
     "base_uri": "https://localhost:8080/",
     "height": 143
    },
    "executionInfo": {
     "elapsed": 40,
     "status": "ok",
     "timestamp": 1742346553994,
     "user": {
      "displayName": "Angel G Diaz E",
      "userId": "00673052882351407026"
     },
     "user_tz": 240
    },
    "id": "2VXH5bbqhyRP",
    "outputId": "85c145f1-1cc4-4b84-aa7c-900ca7618a1a"
   },
   "outputs": [
    {
     "data": {
      "application/vnd.microsoft.datawrangler.viewer.v0+json": {
       "columns": [
        {
         "name": "index",
         "rawType": "object",
         "type": "string"
        },
        {
         "name": "Precio",
         "rawType": "float64",
         "type": "float"
        }
       ],
       "conversionMethod": "pd.DataFrame",
       "ref": "4e62726b-908d-4f08-9466-e0b109e78f61",
       "rows": [
        [
         "Precio_maximo",
         "160000.0"
        ],
        [
         "Precio_minimo",
         "7300.0"
        ],
        [
         "Precio_promedio",
         "39298.913043478264"
        ]
       ],
       "shape": {
        "columns": 1,
        "rows": 3
       }
      },
      "text/html": [
       "<div>\n",
       "<style scoped>\n",
       "    .dataframe tbody tr th:only-of-type {\n",
       "        vertical-align: middle;\n",
       "    }\n",
       "\n",
       "    .dataframe tbody tr th {\n",
       "        vertical-align: top;\n",
       "    }\n",
       "\n",
       "    .dataframe thead th {\n",
       "        text-align: right;\n",
       "    }\n",
       "</style>\n",
       "<table border=\"1\" class=\"dataframe\">\n",
       "  <thead>\n",
       "    <tr style=\"text-align: right;\">\n",
       "      <th></th>\n",
       "      <th>Precio</th>\n",
       "    </tr>\n",
       "  </thead>\n",
       "  <tbody>\n",
       "    <tr>\n",
       "      <th>Precio_maximo</th>\n",
       "      <td>160000.000000</td>\n",
       "    </tr>\n",
       "    <tr>\n",
       "      <th>Precio_minimo</th>\n",
       "      <td>7300.000000</td>\n",
       "    </tr>\n",
       "    <tr>\n",
       "      <th>Precio_promedio</th>\n",
       "      <td>39298.913043</td>\n",
       "    </tr>\n",
       "  </tbody>\n",
       "</table>\n",
       "</div>"
      ],
      "text/plain": [
       "                        Precio\n",
       "Precio_maximo    160000.000000\n",
       "Precio_minimo      7300.000000\n",
       "Precio_promedio   39298.913043"
      ]
     },
     "execution_count": 12,
     "metadata": {},
     "output_type": "execute_result"
    }
   ],
   "source": [
    "#Luego se va a verificar el precio maximo, minimo y el prommedio\n",
    "df.agg(\n",
    "    Precio_maximo=('Precio','max'),\n",
    "    Precio_minimo=('Precio','min'),\n",
    "    Precio_promedio=('Precio','mean')\n",
    ")"
   ]
  },
  {
   "cell_type": "code",
   "execution_count": 13,
   "metadata": {
    "colab": {
     "base_uri": "https://localhost:8080/",
     "height": 538
    },
    "executionInfo": {
     "elapsed": 280,
     "status": "ok",
     "timestamp": 1742346554278,
     "user": {
      "displayName": "Angel G Diaz E",
      "userId": "00673052882351407026"
     },
     "user_tz": 240
    },
    "id": "J5dr1trOidVS",
    "outputId": "4f35f320-4b55-4847-87e9-7016adda7e7a"
   },
   "outputs": [
    {
     "data": {
      "image/png": "[encoded data removed]",
      "text/plain": [
       "<Figure size 640x480 with 1 Axes>"
      ]
     },
     "metadata": {},
     "output_type": "display_data"
    }
   ],
   "source": [
    "#Por ultimo quiero averiguar la cantidad de propiedades captadas por cada captador\n",
    "\n",
    "nro_propXcaptador = df.groupby('CAPTADOR')['Precio'].count().sort_values(ascending=False)\n",
    "\n",
    "#Y crear un grafico de barras\n",
    "\n",
    "plt.bar(nro_propXcaptador.index, nro_propXcaptador.values)\n",
    "plt.xlabel('Captador')\n",
    "plt.ylabel('Cantidad de propiedades')\n",
    "plt.title('Cantidad de propiedades por captador')\n",
    "plt.xticks(rotation=90)\n",
    "\n",
    "for i,v in enumerate(nro_propXcaptador.values):\n",
    "  plt.annotate(str(v), xy=(i,v), ha='center', va='bottom')\n",
    "\n",
    "plt.show()"
   ]
  },
  {
   "cell_type": "code",
   "execution_count": 14,
   "metadata": {
    "colab": {
     "base_uri": "https://localhost:8080/",
     "height": 554
    },
    "executionInfo": {
     "elapsed": 102,
     "status": "ok",
     "timestamp": 1742346554383,
     "user": {
      "displayName": "Angel G Diaz E",
      "userId": "00673052882351407026"
     },
     "user_tz": 240
    },
    "id": "YN-bAMrYrcte",
    "outputId": "ee7313cc-32c4-4456-b9bf-c95a16b2c18c"
   },
   "outputs": [
    {
     "data": {
      "text/plain": [
       "CAPTADOR\n",
       "captador3     40.217391\n",
       "captador1     25.000000\n",
       "captador11     6.521739\n",
       "captador4      5.434783\n",
       "captador12     4.347826\n",
       "captador14     3.260870\n",
       "captador2      3.260870\n",
       "captador10     2.173913\n",
       "captador15     2.173913\n",
       "captador7      2.173913\n",
       "captador9      2.173913\n",
       "captador13     1.086957\n",
       "captador16     1.086957\n",
       "captador18     1.086957\n",
       "Name: Precio, dtype: float64"
      ]
     },
     "execution_count": 14,
     "metadata": {},
     "output_type": "execute_result"
    }
   ],
   "source": [
    "#Porcentaje de captaciones por cada captador\n",
    "porcentaje_captadores = (nro_propXcaptador / nro_propXcaptador.sum()) * 100\n",
    "\n",
    "porcentaje_captadores"
   ]
  },
  {
   "cell_type": "markdown",
   "metadata": {
    "id": "yapZLz5Pm2wq"
   },
   "source": [
    "Y aca, se puede ver que la mayor cantidad de captaciones que hubo en la empresa fue por parte de los captadores 3 y 1. Con el 40.21% y 25% respectivamente"
   ]
  },
  {
   "cell_type": "markdown",
   "metadata": {
    "id": "Iu7hfcsXsTXq"
   },
   "source": [
    "## Ahora que ya terminamos con las preguntas propuestas inicialmente, empecemos con el proposito principal de este proyecto que es la prediccion de los precios\n",
    "\n",
    "Hay que recordar lo que indica el enunciado principal:\n",
    "\n",
    "Eres un Cientifico de Datos, el cual fue contratado por la inmobiliaria para un proyecto. El foco principal de este proyecto consiste en la colocacion de precios en las viviendas\n",
    "de clientes nuevos que buscan vender sus propiedades de la mano de la Inmobiliaria. Te vas a basar en un conjunto de datos que te fue proporcionado en donde te indica informacion como\n",
    "la zona de la ciudad, el numero de habitaciones y de baños, el numero de puestos de estacionamiento entre otros datos. En este caso la propiedad a vender es un apartamento.\n",
    "\n",
    "Es decir, se requiere realizar la prediccion de los precios de apartamentos para saber que precio ponerle a las viviendas de nuevos clientes que desean vender sus propiedades con la Inmobiliaria.\n",
    "\n",
    "\n",
    "Primero voy a hacer analisis de relacion con las variables para validar que tipo de relacion existe entre las variables. Posteriormente, verificare los coeficientes de significancia estadistica para validar que variables me pueden servir para la prediccion. Si me sirve una sola variable para la prediccion de los precios, es preferible obtener mas caracteristicas y mas datos para realizar el trabajo. Posteriormente, procedere con la construccion del modelo, su entrenamiento y prueba. Y por ultimo, al tener el modelo ya entrenado y probado, se hara la suposicion de las caracteristicas de un cliente ficticio para el caso y asi poder cumplir con el objetivo.\n",
    "\n"
   ]
  },
  {
   "cell_type": "code",
   "execution_count": 15,
   "metadata": {
    "colab": {
     "base_uri": "https://localhost:8080/",
     "height": 423
    },
    "executionInfo": {
     "elapsed": 32,
     "status": "ok",
     "timestamp": 1742346554418,
     "user": {
      "displayName": "Angel G Diaz E",
      "userId": "00673052882351407026"
     },
     "user_tz": 240
    },
    "id": "z2_ToDIZt9NM",
    "outputId": "c958e94c-0ff0-45c3-93dd-f8e4fdf93101"
   },
   "outputs": [
    {
     "data": {
      "application/vnd.microsoft.datawrangler.viewer.v0+json": {
       "columns": [
        {
         "name": "index",
         "rawType": "int64",
         "type": "integer"
        },
        {
         "name": "Cod Inm",
         "rawType": "object",
         "type": "string"
        },
        {
         "name": "Zona",
         "rawType": "object",
         "type": "string"
        },
        {
         "name": "Precio",
         "rawType": "int64",
         "type": "integer"
        },
        {
         "name": "Conj. Residencial",
         "rawType": "object",
         "type": "unknown"
        },
        {
         "name": "Mtrs Const",
         "rawType": "float64",
         "type": "float"
        },
        {
         "name": "Hab",
         "rawType": "int64",
         "type": "integer"
        },
        {
         "name": "Baños",
         "rawType": "int64",
         "type": "integer"
        },
        {
         "name": "P/E",
         "rawType": "int64",
         "type": "integer"
        },
        {
         "name": "C/E",
         "rawType": "object",
         "type": "string"
        },
        {
         "name": "P/electrica",
         "rawType": "object",
         "type": "string"
        },
        {
         "name": "CAPTADOR",
         "rawType": "object",
         "type": "string"
        }
       ],
       "conversionMethod": "pd.DataFrame",
       "ref": "bb73cf6f-2b3a-44c7-ac29-c953197e21b2",
       "rows": [
        [
         "0",
         "ZI-A1001",
         "San Diego",
         "21000",
         "Valle Topacio",
         "57.0",
         "2",
         "2",
         "1",
         "No",
         "No",
         "captador1"
        ],
        [
         "1",
         "ZI-A1002",
         "La Granja",
         "22000",
         "La Paz",
         "90.0",
         "3",
         "2",
         "1",
         "Si",
         "No",
         "captador1"
        ],
        [
         "3",
         "ZI-A1028",
         "La Granja",
         "23500",
         "La Granja",
         "90.0",
         "3",
         "2",
         "1",
         "Si",
         "No",
         "captador3"
        ],
        [
         "4",
         "ZI-A1029",
         "Prebo PH",
         "45000",
         "Parque Prebo",
         "180.0",
         "4",
         "3",
         "3",
         "Si",
         "Si",
         "captador3"
        ],
        [
         "6",
         "ZI-A1057",
         "Mañongo",
         "32000",
         "Sun Suite",
         "81.0",
         "3",
         "2",
         "2",
         "Si",
         "No",
         "captador3"
        ],
        [
         "8",
         "ZI-A1075",
         "Bosque ",
         "21000",
         "Monticello",
         "59.0",
         "1",
         "1",
         "1",
         "No",
         "Si",
         "captador2"
        ],
        [
         "9",
         "ZI-A1078",
         "Callejon Prebo",
         "18000",
         "Sarait",
         "64.0",
         "2",
         "2",
         "2",
         "Si",
         "No",
         "captador4"
        ],
        [
         "10",
         "ZI-A1093",
         "Prebo",
         "15800",
         "Mayabeque",
         "114.0",
         "3",
         "2",
         "1",
         "Si",
         "No",
         "captador3"
        ],
        [
         "11",
         "ZI-A1094",
         "Rincon",
         "21000",
         "Doral Country",
         "58.0",
         "2",
         "2",
         "1",
         "Si",
         "No",
         "captador2"
        ],
        [
         "12",
         "ZI-A1096",
         "Bosque",
         "98000",
         "Bosque Encantado",
         "286.0",
         "4",
         "6",
         "4",
         "Si",
         "Si",
         "captador3"
        ],
        [
         "17",
         "ZI-A1147",
         "Trigaleña ",
         "155000",
         "Jacaranda",
         "165.0",
         "4",
         "3",
         "3",
         "Si",
         "Si",
         "captador3"
        ],
        [
         "18",
         "ZI-A1148",
         "Parral",
         "155000",
         "Morisca",
         "180.0",
         "3",
         "3",
         "4",
         "Si",
         "Si",
         "captador3"
        ],
        [
         "21",
         "ZI-A1163",
         "Chimeneas",
         "35000",
         "Las Chimeneas",
         "80.0",
         "2",
         "2",
         "2",
         "Si",
         "Si",
         "captador3"
        ],
        [
         "26",
         "ZI-A1194",
         "Valles de Camoruco",
         "38000",
         "Paraiso F",
         "117.0",
         "4",
         "2",
         "1",
         "Si",
         "No",
         "captador1"
        ],
        [
         "28",
         "ZI-A1207",
         "Chimeneas",
         "36750",
         "Las Chimeneas",
         "77.0",
         "2",
         "2",
         "2",
         "Si",
         "Si",
         "captador11"
        ],
        [
         "29",
         "ZI-A1211",
         "Bella Florida",
         "10500",
         "Las Tapias",
         "59.0",
         "3",
         "1",
         "2",
         "Si",
         "No",
         "captador10"
        ],
        [
         "30",
         "ZI-A1220",
         "Trigaleña",
         "48000",
         "Portales de Shalimar",
         "98.0",
         "3",
         "2",
         "2",
         "Si",
         "Si",
         "captador1"
        ],
        [
         "31",
         "ZI-A1221",
         "Valle Blanco",
         "44000",
         "Montaña Blanca",
         "95.0",
         "3",
         "2",
         "2",
         "No",
         "Si",
         "captador11"
        ],
        [
         "32",
         "ZI-A1222",
         "Rincon",
         "33000",
         "Doral Country",
         "76.0",
         "3",
         "2",
         "3",
         "Si",
         "No",
         "captador9"
        ],
        [
         "34",
         "ZI-A1226",
         "Campiña",
         "20000",
         "Mirabella",
         "93.0",
         "3",
         "2",
         "2",
         "Si",
         "No",
         "captador4"
        ],
        [
         "38",
         "ZI-A1235",
         "Tucacas",
         "26000",
         "Portobello",
         "50.0",
         "1",
         "2",
         "1",
         "Si",
         "Si",
         "captador3"
        ],
        [
         "39",
         "ZI-A1243",
         "Chimeneas",
         "53000",
         "Mantova",
         "19.0",
         "3",
         "3",
         "2",
         "Si",
         "Si",
         "captador3"
        ],
        [
         "40",
         "ZI-A1253",
         "Trigaleña",
         "80000",
         "Aria",
         "90.0",
         "3",
         "2",
         "2",
         "Si",
         "Si",
         "captador3"
        ],
        [
         "41",
         "ZI-A1257",
         "Parral",
         "48000",
         "Utila",
         "94.0",
         "3",
         "2",
         "2",
         "Si",
         "Si",
         "captador4"
        ],
        [
         "44",
         "ZI-A1263",
         "San Diego",
         "16800",
         "Montemayor",
         "78.0",
         "3",
         "2",
         "1",
         "No",
         "No",
         "captador11"
        ],
        [
         "46",
         "ZI-A1267",
         "Los Mangos",
         "78000",
         "Kristal I",
         "180.0",
         "5",
         "4",
         "2",
         "Si",
         "Si",
         "captador3"
        ],
        [
         "47",
         "ZI-A1269",
         "Cuatricentenaria",
         "26000",
         "Isla Centinela",
         "69.0",
         "2",
         "2",
         "2",
         "Si",
         "Si",
         "captador1"
        ],
        [
         "48",
         "ZI-A1270",
         "Parral",
         "147000",
         "Gran Tepuy",
         "580.0",
         "5",
         "6",
         "4",
         "Si",
         "Si",
         "captador11"
        ],
        [
         "49",
         "ZI-A1271",
         "San Diego",
         "8000",
         "Abadia",
         "82.0",
         "3",
         "2",
         "1",
         "No",
         "No",
         "captador13"
        ],
        [
         "52",
         "ZI-A1276",
         "Chimeneas",
         "40000",
         "Antalya",
         "89.0",
         "3",
         "2",
         "2",
         "Si",
         "Si",
         "captador15"
        ],
        [
         "53",
         "ZI-A1279",
         "San Diego",
         "20000",
         "Montemayor",
         "78.0",
         "3",
         "2",
         "1",
         "No",
         "No",
         "captador12"
        ],
        [
         "54",
         "ZI-A1281",
         "Rincon",
         "28000",
         "Doral Country",
         "74.0",
         "3",
         "2",
         "1",
         "Si",
         "No",
         "captador2"
        ],
        [
         "55",
         "ZI-A1282",
         "Chimeneas",
         "30000",
         "Las Chimeneas",
         "77.0",
         "2",
         "2",
         "2",
         "No",
         "Si",
         "captador3"
        ],
        [
         "60",
         "ZI-A1293",
         "Naguanagua",
         "40000",
         "Los Candiles",
         "214.0",
         "4",
         "4",
         "0",
         "Si",
         "No",
         "captador16"
        ],
        [
         "61",
         "ZI-A1295",
         "Parral",
         "95000",
         "Millenium",
         "119.0",
         "3",
         "2",
         "2",
         "Si",
         "Si",
         "captador3"
        ],
        [
         "62",
         "ZI-A1297",
         "Parque Valencia",
         "9500",
         "Flamingo Park III",
         "58.0",
         "3",
         "2",
         "1",
         "Si",
         "No",
         "captador14"
        ],
        [
         "63",
         "ZI-A1301",
         "Rincon",
         "22500",
         "Doral Country",
         "58.0",
         "2",
         "2",
         "1",
         "Si",
         "No",
         "captador3"
        ],
        [
         "64",
         "ZI-A1302",
         "Los Mangos",
         "28500",
         "Lomas de los Mangos",
         "78.0",
         "3",
         "2",
         "1",
         "Si",
         "Si",
         "captador3"
        ],
        [
         "65",
         "ZI-A1304",
         "Naguanagua",
         "14800",
         "Los Caracaros",
         "86.0",
         "3",
         "2",
         "1",
         "Si",
         "Si",
         "captador3"
        ],
        [
         "67",
         "ZI-A1308",
         "Cuatricentenaria",
         "23000",
         "Mirador Country",
         "45.0",
         "1",
         "2",
         "1",
         "Si",
         "Si",
         "captador3"
        ],
        [
         "68",
         "ZI-A1309",
         "Trigaleña",
         "52000",
         "Monteararat",
         "113.0",
         "3",
         "2",
         "2",
         "Si",
         "Si",
         "captador3"
        ],
        [
         "70",
         "ZI-A1312",
         "Trigaleña",
         "28000",
         "Allto Claro  ",
         "76.0",
         "2",
         "2",
         "2",
         "Si",
         "Si",
         "captador3"
        ],
        [
         "74",
         "ZI-A1316",
         "Parral",
         "50000",
         "Chelsea Court ",
         "110.0",
         "3",
         "2",
         "2",
         "Si",
         "No",
         "captador3"
        ],
        [
         "76",
         "ZI-A1318",
         "San Diego",
         "16900",
         "Montemayor",
         "80.0",
         "3",
         "2",
         "2",
         "No",
         "No",
         "captador3"
        ],
        [
         "77",
         "ZI-A1319",
         "Trigaleña",
         "160000",
         "Bahia Platinum",
         "186.0",
         "4",
         "3",
         "3",
         "Si",
         "Si",
         "captador4"
        ],
        [
         "80",
         "ZI-A1322",
         "Av. Bolivar",
         "16000",
         "Las Acacias",
         "70.0",
         "3",
         "2",
         "1",
         "Si",
         "No",
         "captador7"
        ],
        [
         "82",
         "ZI-A1324",
         "Chimeneas",
         "25000",
         "Samara",
         "88.0",
         "3",
         "2",
         "1",
         "Si",
         "Si",
         "captador11"
        ],
        [
         "84",
         "ZI-A1325",
         "Parral",
         "31500",
         "Veranda",
         "118.0",
         "3",
         "3",
         "2",
         "Si",
         "Si",
         "captador10"
        ],
        [
         "85",
         "ZI-A1326",
         "San Diego",
         "11000",
         "Tulipan",
         "56.0",
         "2",
         "1",
         "1",
         "Si",
         "No",
         "captador12"
        ],
        [
         "89",
         "ZI-A1330",
         "Parque Valencia",
         "9500",
         "Araguaney",
         "75.0",
         "3",
         "2",
         "2",
         "Si",
         "No",
         "captador18"
        ]
       ],
       "shape": {
        "columns": 11,
        "rows": 92
       }
      },
      "text/html": [
       "<div>\n",
       "<style scoped>\n",
       "    .dataframe tbody tr th:only-of-type {\n",
       "        vertical-align: middle;\n",
       "    }\n",
       "\n",
       "    .dataframe tbody tr th {\n",
       "        vertical-align: top;\n",
       "    }\n",
       "\n",
       "    .dataframe thead th {\n",
       "        text-align: right;\n",
       "    }\n",
       "</style>\n",
       "<table border=\"1\" class=\"dataframe\">\n",
       "  <thead>\n",
       "    <tr style=\"text-align: right;\">\n",
       "      <th></th>\n",
       "      <th>Cod Inm</th>\n",
       "      <th>Zona</th>\n",
       "      <th>Precio</th>\n",
       "      <th>Conj. Residencial</th>\n",
       "      <th>Mtrs Const</th>\n",
       "      <th>Hab</th>\n",
       "      <th>Baños</th>\n",
       "      <th>P/E</th>\n",
       "      <th>C/E</th>\n",
       "      <th>P/electrica</th>\n",
       "      <th>CAPTADOR</th>\n",
       "    </tr>\n",
       "  </thead>\n",
       "  <tbody>\n",
       "    <tr>\n",
       "      <th>0</th>\n",
       "      <td>ZI-A1001</td>\n",
       "      <td>San Diego</td>\n",
       "      <td>21000</td>\n",
       "      <td>Valle Topacio</td>\n",
       "      <td>57.0</td>\n",
       "      <td>2</td>\n",
       "      <td>2</td>\n",
       "      <td>1</td>\n",
       "      <td>No</td>\n",
       "      <td>No</td>\n",
       "      <td>captador1</td>\n",
       "    </tr>\n",
       "    <tr>\n",
       "      <th>1</th>\n",
       "      <td>ZI-A1002</td>\n",
       "      <td>La Granja</td>\n",
       "      <td>22000</td>\n",
       "      <td>La Paz</td>\n",
       "      <td>90.0</td>\n",
       "      <td>3</td>\n",
       "      <td>2</td>\n",
       "      <td>1</td>\n",
       "      <td>Si</td>\n",
       "      <td>No</td>\n",
       "      <td>captador1</td>\n",
       "    </tr>\n",
       "    <tr>\n",
       "      <th>3</th>\n",
       "      <td>ZI-A1028</td>\n",
       "      <td>La Granja</td>\n",
       "      <td>23500</td>\n",
       "      <td>La Granja</td>\n",
       "      <td>90.0</td>\n",
       "      <td>3</td>\n",
       "      <td>2</td>\n",
       "      <td>1</td>\n",
       "      <td>Si</td>\n",
       "      <td>No</td>\n",
       "      <td>captador3</td>\n",
       "    </tr>\n",
       "    <tr>\n",
       "      <th>4</th>\n",
       "      <td>ZI-A1029</td>\n",
       "      <td>Prebo PH</td>\n",
       "      <td>45000</td>\n",
       "      <td>Parque Prebo</td>\n",
       "      <td>180.0</td>\n",
       "      <td>4</td>\n",
       "      <td>3</td>\n",
       "      <td>3</td>\n",
       "      <td>Si</td>\n",
       "      <td>Si</td>\n",
       "      <td>captador3</td>\n",
       "    </tr>\n",
       "    <tr>\n",
       "      <th>6</th>\n",
       "      <td>ZI-A1057</td>\n",
       "      <td>Mañongo</td>\n",
       "      <td>32000</td>\n",
       "      <td>Sun Suite</td>\n",
       "      <td>81.0</td>\n",
       "      <td>3</td>\n",
       "      <td>2</td>\n",
       "      <td>2</td>\n",
       "      <td>Si</td>\n",
       "      <td>No</td>\n",
       "      <td>captador3</td>\n",
       "    </tr>\n",
       "    <tr>\n",
       "      <th>...</th>\n",
       "      <td>...</td>\n",
       "      <td>...</td>\n",
       "      <td>...</td>\n",
       "      <td>...</td>\n",
       "      <td>...</td>\n",
       "      <td>...</td>\n",
       "      <td>...</td>\n",
       "      <td>...</td>\n",
       "      <td>...</td>\n",
       "      <td>...</td>\n",
       "      <td>...</td>\n",
       "    </tr>\n",
       "    <tr>\n",
       "      <th>135</th>\n",
       "      <td>ZI-A1376</td>\n",
       "      <td>San Diego</td>\n",
       "      <td>26000</td>\n",
       "      <td>Valle Topacio</td>\n",
       "      <td>57.0</td>\n",
       "      <td>2</td>\n",
       "      <td>2</td>\n",
       "      <td>1</td>\n",
       "      <td>Si</td>\n",
       "      <td>No</td>\n",
       "      <td>captador1</td>\n",
       "    </tr>\n",
       "    <tr>\n",
       "      <th>136</th>\n",
       "      <td>ZI-A1377</td>\n",
       "      <td>San Diego</td>\n",
       "      <td>26500</td>\n",
       "      <td>Valle Topacio</td>\n",
       "      <td>57.0</td>\n",
       "      <td>2</td>\n",
       "      <td>2</td>\n",
       "      <td>1</td>\n",
       "      <td>Si</td>\n",
       "      <td>No</td>\n",
       "      <td>captador1</td>\n",
       "    </tr>\n",
       "    <tr>\n",
       "      <th>137</th>\n",
       "      <td>ZI-A1378</td>\n",
       "      <td>San Diego</td>\n",
       "      <td>18000</td>\n",
       "      <td>Terrazas de San Diego</td>\n",
       "      <td>67.0</td>\n",
       "      <td>3</td>\n",
       "      <td>2</td>\n",
       "      <td>1</td>\n",
       "      <td>Si</td>\n",
       "      <td>No</td>\n",
       "      <td>captador1</td>\n",
       "    </tr>\n",
       "    <tr>\n",
       "      <th>138</th>\n",
       "      <td>ZI-A1379</td>\n",
       "      <td>San Diego</td>\n",
       "      <td>27000</td>\n",
       "      <td>Terrazas de San Diego (PH)</td>\n",
       "      <td>130.0</td>\n",
       "      <td>4</td>\n",
       "      <td>3</td>\n",
       "      <td>1</td>\n",
       "      <td>Si</td>\n",
       "      <td>No</td>\n",
       "      <td>captador1</td>\n",
       "    </tr>\n",
       "    <tr>\n",
       "      <th>139</th>\n",
       "      <td>ZI-A1380</td>\n",
       "      <td>Mañongo</td>\n",
       "      <td>29000</td>\n",
       "      <td>Sun Suite</td>\n",
       "      <td>57.0</td>\n",
       "      <td>2</td>\n",
       "      <td>2</td>\n",
       "      <td>2</td>\n",
       "      <td>Si</td>\n",
       "      <td>No</td>\n",
       "      <td>captador1</td>\n",
       "    </tr>\n",
       "  </tbody>\n",
       "</table>\n",
       "<p>92 rows × 11 columns</p>\n",
       "</div>"
      ],
      "text/plain": [
       "      Cod Inm       Zona  Precio           Conj. Residencial  Mtrs Const  Hab  \\\n",
       "0    ZI-A1001  San Diego   21000               Valle Topacio        57.0    2   \n",
       "1    ZI-A1002  La Granja   22000                      La Paz        90.0    3   \n",
       "3    ZI-A1028  La Granja   23500                   La Granja        90.0    3   \n",
       "4    ZI-A1029   Prebo PH   45000                Parque Prebo       180.0    4   \n",
       "6    ZI-A1057    Mañongo   32000                   Sun Suite        81.0    3   \n",
       "..        ...        ...     ...                         ...         ...  ...   \n",
       "135  ZI-A1376  San Diego   26000               Valle Topacio        57.0    2   \n",
       "136  ZI-A1377  San Diego   26500               Valle Topacio        57.0    2   \n",
       "137  ZI-A1378  San Diego   18000       Terrazas de San Diego        67.0    3   \n",
       "138  ZI-A1379  San Diego   27000  Terrazas de San Diego (PH)       130.0    4   \n",
       "139  ZI-A1380    Mañongo   29000                   Sun Suite        57.0    2   \n",
       "\n",
       "     Baños  P/E C/E P/electrica   CAPTADOR  \n",
       "0        2    1  No          No  captador1  \n",
       "1        2    1  Si          No  captador1  \n",
       "3        2    1  Si          No  captador3  \n",
       "4        3    3  Si          Si  captador3  \n",
       "6        2    2  Si          No  captador3  \n",
       "..     ...  ...  ..         ...        ...  \n",
       "135      2    1  Si          No  captador1  \n",
       "136      2    1  Si          No  captador1  \n",
       "137      2    1  Si          No  captador1  \n",
       "138      3    1  Si          No  captador1  \n",
       "139      2    2  Si          No  captador1  \n",
       "\n",
       "[92 rows x 11 columns]"
      ]
     },
     "execution_count": 15,
     "metadata": {},
     "output_type": "execute_result"
    }
   ],
   "source": [
    "df"
   ]
  },
  {
   "cell_type": "code",
   "execution_count": 16,
   "metadata": {
    "colab": {
     "base_uri": "https://localhost:8080/",
     "height": 449
    },
    "executionInfo": {
     "elapsed": 203,
     "status": "ok",
     "timestamp": 1742346554600,
     "user": {
      "displayName": "Angel G Diaz E",
      "userId": "00673052882351407026"
     },
     "user_tz": 240
    },
    "id": "UnPIe49y76rk",
    "outputId": "b8a9cbbf-57db-4aa6-d451-9454c4eb6d68"
   },
   "outputs": [
    {
     "data": {
      "text/plain": [
       "<matplotlib.collections.PathCollection at 0x1c44593d940>"
      ]
     },
     "execution_count": 16,
     "metadata": {},
     "output_type": "execute_result"
    },
    {
     "data": {
      "image/png": "[encoded data removed]",
      "text/plain": [
       "<Figure size 640x480 with 1 Axes>"
      ]
     },
     "metadata": {},
     "output_type": "display_data"
    }
   ],
   "source": [
    "#Relacion entre el precio y los metros construidos\n",
    "plt.scatter(df['Precio'],df['Mtrs Const'])"
   ]
  },
  {
   "cell_type": "code",
   "execution_count": 17,
   "metadata": {
    "colab": {
     "base_uri": "https://localhost:8080/",
     "height": 448
    },
    "executionInfo": {
     "elapsed": 338,
     "status": "ok",
     "timestamp": 1742346554939,
     "user": {
      "displayName": "Angel G Diaz E",
      "userId": "00673052882351407026"
     },
     "user_tz": 240
    },
    "id": "c5MqyNRd76rl",
    "outputId": "1415619a-055c-4e21-b1e8-7228f1ef9904"
   },
   "outputs": [
    {
     "data": {
      "text/plain": [
       "<matplotlib.collections.PathCollection at 0x1c445810d10>"
      ]
     },
     "execution_count": 17,
     "metadata": {},
     "output_type": "execute_result"
    },
    {
     "data": {
      "image/png": "[encoded data removed]",
      "text/plain": [
       "<Figure size 640x480 with 1 Axes>"
      ]
     },
     "metadata": {},
     "output_type": "display_data"
    }
   ],
   "source": [
    "#Relacion entre el precio y el numero de habitaciones\n",
    "plt.scatter(df['Precio'], df['Hab'])"
   ]
  },
  {
   "cell_type": "code",
   "execution_count": 18,
   "metadata": {
    "colab": {
     "base_uri": "https://localhost:8080/",
     "height": 448
    },
    "executionInfo": {
     "elapsed": 286,
     "status": "ok",
     "timestamp": 1742346555202,
     "user": {
      "displayName": "Angel G Diaz E",
      "userId": "00673052882351407026"
     },
     "user_tz": 240
    },
    "id": "jodOQib576rn",
    "outputId": "fc19475d-d43f-4338-edec-7cd6a051a57a"
   },
   "outputs": [
    {
     "data": {
      "text/plain": [
       "<matplotlib.collections.PathCollection at 0x1c44593deb0>"
      ]
     },
     "execution_count": 18,
     "metadata": {},
     "output_type": "execute_result"
    },
    {
     "data": {
      "image/png": "[encoded data removed]",
      "text/plain": [
       "<Figure size 640x480 with 1 Axes>"
      ]
     },
     "metadata": {},
     "output_type": "display_data"
    }
   ],
   "source": [
    "#Relacion entre el precio y el numero de banos\n",
    "plt.scatter(df['Precio'], df['Baños'])"
   ]
  },
  {
   "cell_type": "code",
   "execution_count": 19,
   "metadata": {
    "colab": {
     "base_uri": "https://localhost:8080/",
     "height": 448
    },
    "executionInfo": {
     "elapsed": 650,
     "status": "ok",
     "timestamp": 1742346555837,
     "user": {
      "displayName": "Angel G Diaz E",
      "userId": "00673052882351407026"
     },
     "user_tz": 240
    },
    "id": "lys136oc76rp",
    "outputId": "845cede7-afe7-44ba-ae38-d5e4675a3a7a"
   },
   "outputs": [
    {
     "data": {
      "text/plain": [
       "<matplotlib.collections.PathCollection at 0x1c445605940>"
      ]
     },
     "execution_count": 19,
     "metadata": {},
     "output_type": "execute_result"
    },
    {
     "data": {
      "image/png": "[encoded data removed]",
      "text/plain": [
       "<Figure size 640x480 with 1 Axes>"
      ]
     },
     "metadata": {},
     "output_type": "display_data"
    }
   ],
   "source": [
    "#Relacion entre el precio y el numero de habitaciones\n",
    "plt.scatter(df['Precio'], df['Zona'])"
   ]
  },
  {
   "cell_type": "markdown",
   "metadata": {
    "id": "WsjEEEtH76rp"
   },
   "source": [
    "Voy a hacer un pequeño cambio en el procedimiento. Primero voy a guardar los datos en variables distintas, en una variable los campos que sean independientes (o los predictores) y en otra la variable dependiente (o la que va a ser predicha). Luego intentare codificar el los campos de Zona y Conj. Residencial. Y despues de tener todo el preprocesamiento listo, voy a obtener los coeficientes necesarios para el modelo."
   ]
  },
  {
   "cell_type": "code",
   "execution_count": 20,
   "metadata": {
    "executionInfo": {
     "elapsed": 46,
     "status": "ok",
     "timestamp": 1742346555839,
     "user": {
      "displayName": "Angel G Diaz E",
      "userId": "00673052882351407026"
     },
     "user_tz": 240
    },
    "id": "7z-FZ-7376rq"
   },
   "outputs": [],
   "source": [
    "# Primero eliminamos la columna del id, ya que no es relevante para el resto del proyecto\n",
    "\n",
    "df.drop(columns=['Cod Inm'], inplace = True)\n",
    "\n",
    "#Luego se guardan las variables independientes en una variable X y la variable dependiente en una variable Y\n",
    "\n",
    "x = df.drop(columns=['Precio']).values #Para indicar que guarde todas las columnas menos la de 'Precio'\n",
    "\n",
    "y = df.iloc[:,1].values #Para indicar que guarde solamente la columna de 'Precio'"
   ]
  },
  {
   "cell_type": "code",
   "execution_count": 21,
   "metadata": {
    "colab": {
     "base_uri": "https://localhost:8080/"
    },
    "executionInfo": {
     "elapsed": 42,
     "status": "ok",
     "timestamp": 1742346555842,
     "user": {
      "displayName": "Angel G Diaz E",
      "userId": "00673052882351407026"
     },
     "user_tz": 240
    },
    "id": "anopgqoc76rq",
    "outputId": "2c34e818-91d2-4090-a55d-0f8d4fd73a84"
   },
   "outputs": [
    {
     "name": "stdout",
     "output_type": "stream",
     "text": [
      "[['San Diego' 'Valle Topacio' 57.0 2 2 1 'No' 'No' 'captador1']\n",
      " ['La Granja' 'La Paz' 90.0 3 2 1 'Si' 'No' 'captador1']\n",
      " ['La Granja' 'La Granja' 90.0 3 2 1 'Si' 'No' 'captador3']\n",
      " ['Prebo PH' 'Parque Prebo' 180.0 4 3 3 'Si' 'Si' 'captador3']\n",
      " ['Mañongo' 'Sun Suite' 81.0 3 2 2 'Si' 'No' 'captador3']\n",
      " ['Bosque ' 'Monticello' 59.0 1 1 1 'No' 'Si' 'captador2']\n",
      " ['Callejon Prebo' 'Sarait' 64.0 2 2 2 'Si' 'No' 'captador4']\n",
      " ['Prebo' 'Mayabeque' 114.0 3 2 1 'Si' 'No' 'captador3']\n",
      " ['Rincon' 'Doral Country' 58.0 2 2 1 'Si' 'No' 'captador2']\n",
      " ['Bosque' 'Bosque Encantado' 286.0 4 6 4 'Si' 'Si' 'captador3']\n",
      " ['Trigaleña ' 'Jacaranda' 165.0 4 3 3 'Si' 'Si' 'captador3']\n",
      " ['Parral' 'Morisca' 180.0 3 3 4 'Si' 'Si' 'captador3']\n",
      " ['Chimeneas' 'Las Chimeneas' 80.0 2 2 2 'Si' 'Si' 'captador3']\n",
      " ['Valles de Camoruco' 'Paraiso F' 117.0 4 2 1 'Si' 'No' 'captador1']\n",
      " ['Chimeneas' 'Las Chimeneas' 77.0 2 2 2 'Si' 'Si' 'captador11']\n",
      " ['Bella Florida' 'Las Tapias' 59.0 3 1 2 'Si' 'No' 'captador10']\n",
      " ['Trigaleña' 'Portales de Shalimar' 98.0 3 2 2 'Si' 'Si' 'captador1']\n",
      " ['Valle Blanco' 'Montaña Blanca' 95.0 3 2 2 'No' 'Si' 'captador11']\n",
      " ['Rincon' 'Doral Country' 76.0 3 2 3 'Si' 'No' 'captador9']\n",
      " ['Campiña' 'Mirabella' 93.0 3 2 2 'Si' 'No' 'captador4']\n",
      " ['Tucacas' 'Portobello' 50.0 1 2 1 'Si' 'Si' 'captador3']\n",
      " ['Chimeneas' 'Mantova' 19.0 3 3 2 'Si' 'Si' 'captador3']\n",
      " ['Trigaleña' 'Aria' 90.0 3 2 2 'Si' 'Si' 'captador3']\n",
      " ['Parral' 'Utila' 94.0 3 2 2 'Si' 'Si' 'captador4']\n",
      " ['San Diego' 'Montemayor' 78.0 3 2 1 'No' 'No' 'captador11']\n",
      " ['Los Mangos' 'Kristal I' 180.0 5 4 2 'Si' 'Si' 'captador3']\n",
      " ['Cuatricentenaria' 'Isla Centinela' 69.0 2 2 2 'Si' 'Si' 'captador1']\n",
      " ['Parral' 'Gran Tepuy' 580.0 5 6 4 'Si' 'Si' 'captador11']\n",
      " ['San Diego' 'Abadia' 82.0 3 2 1 'No' 'No' 'captador13']\n",
      " ['Chimeneas' 'Antalya' 89.0 3 2 2 'Si' 'Si' 'captador15']\n",
      " ['San Diego' 'Montemayor' 78.0 3 2 1 'No' 'No' 'captador12']\n",
      " ['Rincon' 'Doral Country' 74.0 3 2 1 'Si' 'No' 'captador2']\n",
      " ['Chimeneas' 'Las Chimeneas' 77.0 2 2 2 'No' 'Si' 'captador3']\n",
      " ['Naguanagua' 'Los Candiles' 214.0 4 4 0 'Si' 'No' 'captador16']\n",
      " ['Parral' 'Millenium' 119.0 3 2 2 'Si' 'Si' 'captador3']\n",
      " ['Parque Valencia' 'Flamingo Park III' 58.0 3 2 1 'Si' 'No' 'captador14']\n",
      " ['Rincon' 'Doral Country' 58.0 2 2 1 'Si' 'No' 'captador3']\n",
      " ['Los Mangos' 'Lomas de los Mangos' 78.0 3 2 1 'Si' 'Si' 'captador3']\n",
      " ['Naguanagua' 'Los Caracaros' 86.0 3 2 1 'Si' 'Si' 'captador3']\n",
      " ['Cuatricentenaria' 'Mirador Country' 45.0 1 2 1 'Si' 'Si' 'captador3']\n",
      " ['Trigaleña' 'Monteararat' 113.0 3 2 2 'Si' 'Si' 'captador3']\n",
      " ['Trigaleña' 'Allto Claro  ' 76.0 2 2 2 'Si' 'Si' 'captador3']\n",
      " ['Parral' 'Chelsea Court ' 110.0 3 2 2 'Si' 'No' 'captador3']\n",
      " ['San Diego' 'Montemayor' 80.0 3 2 2 'No' 'No' 'captador3']\n",
      " ['Trigaleña' 'Bahia Platinum' 186.0 4 3 3 'Si' 'Si' 'captador4']\n",
      " ['Av. Bolivar' 'Las Acacias' 70.0 3 2 1 'Si' 'No' 'captador7']\n",
      " ['Chimeneas' 'Samara' 88.0 3 2 1 'Si' 'Si' 'captador11']\n",
      " ['Parral' 'Veranda' 118.0 3 3 2 'Si' 'Si' 'captador10']\n",
      " ['San Diego' 'Tulipan' 56.0 2 1 1 'Si' 'No' 'captador12']\n",
      " ['Parque Valencia' 'Araguaney' 75.0 3 2 2 'Si' 'No' 'captador18']\n",
      " ['Parral' 'Merlot Suite' 79.67 2 2 2 'Si' 'Si' 'captador15']\n",
      " ['Trigaleña' 'Aria' 67.0 2 2 2 'Si' 'Si' 'captador3']\n",
      " ['Tazajal' 'Araguaney Suites' 64.0 2 2 2 'Si' 'Si' 'captador9']\n",
      " ['Trigaleña' 'Amalfi Suite II' 205.0 4 5 0 'Si' 'Si' 'captador3']\n",
      " ['Mañongo' 'Puerta Real' 154.0 3 4 5 'No' 'No' 'captador11']\n",
      " ['Trigaleña' 'Saint Moritz' 74.0 2 2 1 'Si' 'No' 'captador12']\n",
      " ['Parral' 'Imola' 68.0 2 2 1 'Si' 'Si' 'captador14']\n",
      " ['Valles de Camoruco' 'Orinoco Suite' 67.0 2 2 1 'Si' 'No' 'captador1']\n",
      " ['Trigaleña' 'Fuerteventura' 153.0 4 3 2 'Si' 'Si' 'captador1']\n",
      " ['Trigaleña' 'Monreale' 55.0 2 1 1 'No' 'Si' 'captador1']\n",
      " ['La Granja' 'Antillas A' 101.0 3 2 2 'Si' 'No' 'captador1']\n",
      " ['Trigaleña' 'Vesubio' 80.0 2 2 2 'Si' 'Si' 'captador1']\n",
      " ['Chimeneas' 'Las Chimeneas' 77.0 2 2 2 'No' 'Si' 'captador3']\n",
      " ['Rincon' 'Doral Country' 58.0 2 2 1 'Si' 'No' 'captador3']\n",
      " ['Trigal Norte' 'Diamante' 158.0 4 4 5 'Si' 'Si' 'captador3']\n",
      " ['Chimeneas' 'Altos del Tepuy' 105.0 3 2 2 'No' 'Si' 'captador3']\n",
      " ['Chimeneas' 'Las Chimeneas' 100.0 3 2 2 'Si' 'Si' 'captador3']\n",
      " ['Paraparal' 'Bosque Encantado' 62.0 3 2 1 'No' 'No' 'captador3']\n",
      " ['Paraparal' 'Bosque Real' 60.0 3 2 1 'No' 'No' 'captador3']\n",
      " ['San Diego' 'Tulipan' 56.0 2 1 1 'No' 'No' 'captador3']\n",
      " ['Trigaleña' 'Potales de Shalimar' 68.0 2 2 1 'Si' 'Si' 'captador3']\n",
      " ['Maracay - Centro' 'Centro' 70.0 2 1 1 'Si' 'No' 'captador3']\n",
      " ['Trigaleña' 'Yokore' 90.0 2 2 2 'No' 'Si' 'captador3']\n",
      " ['San Diego' 'Terrazas de San Diego' 62.23 3 2 1 'Si' 'No' 'captador14']\n",
      " ['San Diego' 'Valle Topacio' 60.0 2 2 1 'Si' 'No' 'captador7']\n",
      " ['Mañongo' 'Sun Suite' 57.0 2 2 2 'Si' 'No' 'captador1']\n",
      " ['Valles de Camoruco' 'Martinica II' 97.0 3 2 1 'Si' 'Si' 'captador1']\n",
      " ['Trigal Norte' 'Diamante' 75.0 3 2 1 'Si' 'Si' 'captador1']\n",
      " ['Bosque' 'San Andres IV' 90.0 3 2 1 'Si' 'Si' 'captador1']\n",
      " ['San Diego' 'Abadia' 85.0 3 2 1 'Si' 'No' 'captador4']\n",
      " ['Caracas - Baruta' 'Terrazas de la Tahona' 70.0 2 2 2 'No' 'No'\n",
      "  'captador1']\n",
      " ['La Florida' 'Portales de San Luis' 67.0 3 2 1 'No' 'No' 'captador1']\n",
      " ['San Diego' 'Montemayor' 78.0 3 2 1 'Si' 'No' 'captador1']\n",
      " ['Chimeneas' 'Vista al Parque' 76.0 3 2 2 'Si' 'Si' 'captador3']\n",
      " ['Mañongo' 2014 180.0 3 3 0 'Si' 'Si' 'captador3']\n",
      " ['La Granja' 'La Paz' 100.0 3 2 1 'No' 'No' 'captador12']\n",
      " ['Los Mangos' 'Puente Piedra' 100.0 4 3 2 'Si' 'No' 'captador1']\n",
      " ['San Diego' 'Valle Topacio' 57.0 2 2 1 'Si' 'No' 'captador1']\n",
      " ['San Diego' 'Valle Topacio' 57.0 2 2 1 'Si' 'No' 'captador1']\n",
      " ['San Diego' 'Terrazas de San Diego' 67.0 3 2 1 'Si' 'No' 'captador1']\n",
      " ['San Diego' 'Terrazas de San Diego (PH)' 130.0 4 3 1 'Si' 'No'\n",
      "  'captador1']\n",
      " ['Mañongo' 'Sun Suite' 57.0 2 2 2 'Si' 'No' 'captador1']]\n"
     ]
    }
   ],
   "source": [
    "#verifico x\n",
    "\n",
    "print(x)"
   ]
  },
  {
   "cell_type": "code",
   "execution_count": 22,
   "metadata": {
    "colab": {
     "base_uri": "https://localhost:8080/"
    },
    "executionInfo": {
     "elapsed": 22,
     "status": "ok",
     "timestamp": 1742346555843,
     "user": {
      "displayName": "Angel G Diaz E",
      "userId": "00673052882351407026"
     },
     "user_tz": 240
    },
    "id": "VFPAi7Iv76rr",
    "outputId": "42f86315-75a9-47c4-b922-4b0b4002a59d"
   },
   "outputs": [
    {
     "data": {
      "text/plain": [
       "array([ 21000,  22000,  23500,  45000,  32000,  21000,  18000,  15800,\n",
       "        21000,  98000, 155000, 155000,  35000,  38000,  36750,  10500,\n",
       "        48000,  44000,  33000,  20000,  26000,  53000,  80000,  48000,\n",
       "        16800,  78000,  26000, 147000,   8000,  40000,  20000,  28000,\n",
       "        30000,  40000,  95000,   9500,  22500,  28500,  14800,  23000,\n",
       "        52000,  28000,  50000,  16900, 160000,  16000,  25000,  31500,\n",
       "        11000,   9500,  40000,  48000,  24800, 150000,  99750,  17000,\n",
       "        33000,  19000,  95000,  25000,  29500,  45000,  26900,  22000,\n",
       "        45000,  40000,  40000,   8300,   7300,  12900,  38500,  16000,\n",
       "        29500,  15500,  20000,  29000,  28000,  25000,  28000,  18500,\n",
       "        61500,  18000,  20000,  49500,  85000,  16000,  36000,  26000,\n",
       "        26500,  18000,  27000,  29000])"
      ]
     },
     "execution_count": 22,
     "metadata": {},
     "output_type": "execute_result"
    }
   ],
   "source": [
    "#verifico y\n",
    "\n",
    "y"
   ]
  },
  {
   "cell_type": "code",
   "execution_count": 23,
   "metadata": {
    "executionInfo": {
     "elapsed": 1048,
     "status": "ok",
     "timestamp": 1742346556883,
     "user": {
      "displayName": "Angel G Diaz E",
      "userId": "00673052882351407026"
     },
     "user_tz": 240
    },
    "id": "uqbxSWPI76rs"
   },
   "outputs": [],
   "source": [
    "#Ahora genero las variables dummies (o codifico las variables de Zona y Conj. Residencial)\n",
    "from sklearn.compose import ColumnTransformer\n",
    "from sklearn.preprocessing import OneHotEncoder\n",
    "\n",
    "#Primero se crea un objeto de la clase ColumnTransformer\n",
    "\n",
    "ct = ColumnTransformer(\n",
    "    transformers=[\n",
    "        ('encoder', OneHotEncoder(sparse_output=False, handle_unknown = 'ignore'), [0,1]) #0 y 1 son los indices de las columnas que se van a transformar\n",
    "    ], remainder='passthrough'\n",
    ")\n",
    "\n",
    "#Convierto las columnas a tipo strings para evitar errores\n",
    "x[:, 0] = x[:, 0].astype(str)\n",
    "x[:, 1] = x[:, 1].astype(str)\n",
    "\n",
    "# Ya tengo los parametros para convertir estas columnas, ahora aplico estos parametros\n",
    "\n",
    "x = np.array(ct.fit_transform(x))\n",
    "\n",
    "#Este paso va a dar como resultado una matriz de datos muy grande, ya que son\n",
    "#muchos los valores a codificar"
   ]
  },
  {
   "cell_type": "code",
   "execution_count": 24,
   "metadata": {
    "colab": {
     "base_uri": "https://localhost:8080/"
    },
    "executionInfo": {
     "elapsed": 14,
     "status": "ok",
     "timestamp": 1742346556904,
     "user": {
      "displayName": "Angel G Diaz E",
      "userId": "00673052882351407026"
     },
     "user_tz": 240
    },
    "id": "A9rRqVP576rt",
    "outputId": "7f13d7d6-33c9-4509-e345-75fcc3332477"
   },
   "outputs": [
    {
     "name": "stdout",
     "output_type": "stream",
     "text": [
      "[[0.0 0.0 0.0 ... 0 0 'captador1']\n",
      " [0.0 0.0 0.0 ... 1 0 'captador1']\n",
      " [0.0 0.0 0.0 ... 1 0 'captador3']\n",
      " ...\n",
      " [0.0 0.0 0.0 ... 1 0 'captador1']\n",
      " [0.0 0.0 0.0 ... 1 0 'captador1']\n",
      " [0.0 0.0 0.0 ... 1 0 'captador1']]\n"
     ]
    }
   ],
   "source": [
    "#Ahora voy a hacer lo mismo, pero con las columnas de C\\E (Cocina empotrada) y P\\E (Planta electrica)\n",
    "\n",
    "from sklearn.preprocessing import LabelEncoder\n",
    "\n",
    "le = LabelEncoder()\n",
    "\n",
    "x[:,-2] = le.fit_transform(x[:,-2])\n",
    "x[:,-3] = le.fit_transform(x[:,-3])\n",
    "\n",
    "#En este caso utilizo indices negativos para indicar que son las ultimas dos columnas las que quiero transformar.\n",
    "#Ya que la ultima transformacion que hice fue la de las variables dummies, y me creo muchos mas indices, por lo que no se con exactitud\n",
    "#cuales son los indices de las ultimas dos columnas. Por lo tanto, utilizo indices negativos.\n",
    "\n",
    "print(x)"
   ]
  },
  {
   "cell_type": "code",
   "execution_count": 25,
   "metadata": {
    "colab": {
     "base_uri": "https://localhost:8080/"
    },
    "executionInfo": {
     "elapsed": 9,
     "status": "ok",
     "timestamp": 1742346556915,
     "user": {
      "displayName": "Angel G Diaz E",
      "userId": "00673052882351407026"
     },
     "user_tz": 240
    },
    "id": "388M8dvl76rt",
    "outputId": "1b47c59b-b5df-4fce-e7b6-48992728efa2"
   },
   "outputs": [
    {
     "name": "stdout",
     "output_type": "stream",
     "text": [
      "[[0.0 0.0 0.0 ... 1 0 0]\n",
      " [0.0 0.0 0.0 ... 1 1 0]\n",
      " [0.0 0.0 0.0 ... 1 1 0]\n",
      " ...\n",
      " [0.0 0.0 0.0 ... 1 1 0]\n",
      " [0.0 0.0 0.0 ... 1 1 0]\n",
      " [0.0 0.0 0.0 ... 2 1 0]]\n"
     ]
    }
   ],
   "source": [
    "# Por ultimo, para terminar de preparar los datos, elimino la variable 'Captador' ya que no es relevante para el modelo\n",
    "\n",
    "x = x[:, :-1]\n",
    "\n",
    "print(x)"
   ]
  },
  {
   "cell_type": "markdown",
   "metadata": {
    "id": "__9xFDUm76ru"
   },
   "source": [
    "### Ahora se va a crear el modelo, verificar los coeficientes y predecir los resultados\n",
    "\n",
    "A partir de este punto, se va a entrar directamente a la implementacion de un modelo de regresion para predecir el precio de las casas en ciertas zonas de Valencia, Venezuela. De igual manera, se va a verificar los coeficientes de significancia estadistica para este modelo."
   ]
  },
  {
   "cell_type": "code",
   "execution_count": 36,
   "metadata": {
    "colab": {
     "base_uri": "https://localhost:8080/"
    },
    "executionInfo": {
     "elapsed": 264,
     "status": "ok",
     "timestamp": 1742349692644,
     "user": {
      "displayName": "Angel G Diaz E",
      "userId": "00673052882351407026"
     },
     "user_tz": 240
    },
    "id": "6YLft5JY76rv",
    "outputId": "3c3a6f81-04af-4b42-da00-541c71bbc980"
   },
   "outputs": [
    {
     "name": "stdout",
     "output_type": "stream",
     "text": [
      "Coeficiente de determinacion R^2: 0.9919696791747508\n",
      "Coeficientes: [-3.88625618e+03 -4.23266071e+03  1.24700579e+04  4.96107450e+03\n",
      "  3.23998957e+03 -1.98307221e+03  2.86308932e-09 -4.71620265e+02\n",
      " -2.38885782e+03  1.99361239e-09  6.47660467e+02 -4.27808099e+03\n",
      "  3.87964747e+03  6.52285410e+03 -4.07729119e+03 -2.10283084e+04\n",
      " -9.27556190e+03  2.57826766e+04 -4.65503497e+03 -7.87141084e+03\n",
      "  5.00333347e+03 -1.47093231e+03 -2.91286023e+03 -9.01510357e+03\n",
      "  1.08872283e+04 -3.18323146e-11  3.42943590e+03  2.61848532e+03\n",
      " -1.89539206e+03  1.09139364e-11 -7.27716066e+03 -1.38777372e+04\n",
      "  1.40460055e+03  1.00044417e-11 -2.47862761e+03  4.64300282e+03\n",
      " -4.64339987e+03 -2.91286023e+03  1.62639895e+04  2.38187248e-12\n",
      "  1.01686010e+04  9.22939910e+03  3.87964747e+03 -2.65604677e+02\n",
      " -9.01510357e+03  5.00333347e+03 -4.63216203e+03  2.36851783e+04\n",
      "  1.09139364e-11  4.82341944e-12 -2.38885782e+03 -9.09494702e-13\n",
      "  5.49790624e+03 -3.63797881e-12 -3.99534236e+03 -3.88625618e+03\n",
      "  2.45757215e+03 -4.23266071e+03 -1.03433233e+04 -4.07729119e+03\n",
      "  0.00000000e+00  8.68204913e+03 -1.38035939e+04 -4.65503497e+03\n",
      " -1.68847500e+04  2.53551044e+04 -1.98307221e+03  0.00000000e+00\n",
      "  0.00000000e+00  2.61848532e+03  0.00000000e+00 -7.31375855e+02\n",
      "  4.96107450e+03  8.05445990e+04  8.77862833e+03  3.12957349e+03\n",
      " -7.87141084e+03  0.00000000e+00 -6.11106747e+03  3.42943590e+03\n",
      " -3.64009063e+03  5.67336022e+02  0.00000000e+00  0.00000000e+00\n",
      " -1.79537743e+04 -2.79562506e+04  3.23998957e+03  6.52285410e+03\n",
      " -4.21038294e+03 -1.26573295e+04  0.00000000e+00  7.79062013e+03\n",
      " -2.08849197e+04  1.56146965e+04 -4.20817523e+04  3.00066670e+03\n",
      "  7.41655986e+03 -8.43371092e+03  3.03990360e+01  1.15645515e+04\n",
      "  3.96725578e+03 -5.05545766e+02  4.36961274e+03  1.91056996e+04]\n",
      "Intercepto: -24847.653253118362\n",
      "Valor p: [4.66827709e-01 3.39404797e-01 8.29084186e-02 6.02116122e-01\n",
      " 5.18884819e-01 5.73724903e-01 1.00000000e+00 5.84040239e-01\n",
      " 7.52350800e-01 1.00000000e+00 4.18766101e-01 3.16753638e-01\n",
      " 4.66827709e-01 8.52494305e-01 7.94995278e-01 1.26843417e-01\n",
      " 1.54197046e-01 6.41418651e-05 4.61782815e-01 6.41535686e-01\n",
      " 4.46413797e-01 1.27547822e-02 7.15182555e-01 9.38314091e-01\n",
      " 2.65572183e-02 1.00000000e+00 7.52350800e-01 6.71288388e-01\n",
      " 6.99575471e-01 1.00000000e+00 2.29609515e-01 8.15525548e-01\n",
      " 7.94995278e-01 1.00000000e+00 7.94995278e-01 8.63713967e-01\n",
      " 3.18838925e-01 7.15182555e-01 7.27268936e-02 1.00000000e+00\n",
      " 2.52344384e-01 2.76467824e-01 4.66827709e-01 5.01776825e-01\n",
      " 9.38314091e-01 4.46413797e-01 3.18838925e-01 9.90300491e-03\n",
      " 1.00000000e+00 1.00000000e+00 7.52350800e-01 1.00000000e+00\n",
      " 6.53262481e-02 1.00000000e+00 3.89206791e-01 4.66827709e-01\n",
      " 9.96032363e-01 3.39404797e-01 8.31521881e-01 7.94995278e-01\n",
      " 1.00000000e+00 4.26227567e-01 8.15525548e-01 4.61782815e-01\n",
      " 7.94995278e-01 9.90300491e-03 5.73724903e-01 1.00000000e+00\n",
      " 1.00000000e+00 6.71288388e-01 1.00000000e+00 1.97813628e-01\n",
      " 6.02116122e-01 3.10339639e-08 5.45970757e-01 8.59024432e-01\n",
      " 6.41535686e-01 1.00000000e+00 5.55742843e-01 7.52350800e-01\n",
      " 8.42914686e-01 9.23974586e-01 1.00000000e+00 1.00000000e+00\n",
      " 7.21334234e-01 8.15525548e-01 5.18884819e-01 8.52494305e-01\n",
      " 5.18884819e-01 7.83763784e-01 1.00000000e+00 2.01007193e-01\n",
      " 5.55742843e-01 5.07085551e-01 9.28714764e-01 6.41535686e-01\n",
      " 5.15009069e-01 8.63713967e-01 3.71909132e-09 3.34297294e-03\n",
      " 8.30144400e-07 3.05486735e-08 2.47943315e-02 1.73952787e-06]\n"
     ]
    }
   ],
   "source": [
    "# Primero dividimos el dataset en sets de entrenamiento y prueba. Y luego se genera el modelo\n",
    "\n",
    "from sklearn.model_selection import train_test_split\n",
    "\n",
    "x_train, x_test, y_train, y_test = train_test_split(x,y, test_size=0.2, random_state=1)\n",
    "\n",
    "x_train = x_train.astype(float)\n",
    "x_test = x_test.astype(float)\n",
    "y_train = y_train.astype(float)\n",
    "y_test = y_test.astype(float)\n",
    "\n",
    "#Ahora se genera el modelo de regresion lineal\n",
    "\n",
    "from sklearn.linear_model import LinearRegression\n",
    "\n",
    "#se crea una instancia, u objeto, de la clase LinearRegression para establecer el modelo\n",
    "\n",
    "modelo = LinearRegression()\n",
    "\n",
    "#Luego, le pasamos a este objeto los datos de entrenamiento para que el modelo se ajuste a estos datos con la funcion fit()\n",
    "\n",
    "modelo.fit(x_train, y_train)\n",
    "\n",
    "#Ahora que el modelo esta ajustado a los datos de entrenamiento, se va a consultar los coeficientes de este modelo.\n",
    "\n",
    "coeficientes = modelo.coef_\n",
    "interceptor =  modelo.intercept_\n",
    "\n",
    "\n",
    "#Y tambien el valor de R^2\n",
    "\n",
    "r2 = modelo.score(x_train, y_train) #Esta medida indica que tan bien se ajusta el modelo a los datos de prueba.\n",
    "# Mientras mas cerca de 1, mejor es el ajuste del\n",
    "\n",
    "#Ahora se obtendra el valor p. Este valor, en escencia, indica la probabilidad de que los resultados del modelo\n",
    "#no esten dados por razon del azar. Mientras menor sea el valor p (< 0.05) mayor significancia estadistica habra\n",
    "\n",
    "from sklearn.feature_selection import f_regression\n",
    "\n",
    "f_values, p_values = f_regression(x_train, y_train)\n",
    "\n",
    "print(f'Coeficiente de determinacion R^2: {r2}')\n",
    "print(f'Coeficientes: {coeficientes}')\n",
    "print(f'Intercepto: {interceptor}')\n",
    "print(f'Valor p: {p_values}')"
   ]
  },
  {
   "cell_type": "code",
   "execution_count": 37,
   "metadata": {},
   "outputs": [
    {
     "name": "stdout",
     "output_type": "stream",
     "text": [
      "Coeficiente de determinacion R^2: 0.9919696791747508\n",
      "Coeficientes: [-2.26420784e+04 -4.98904363e+03 -5.33544816e+03  1.24075705e+04\n",
      "  4.64632299e+03  2.13720212e+03 -3.08585966e+03 -5.62528425e-11\n",
      " -1.01119428e+03 -2.70360933e+03  8.07083072e-11 -8.22722798e+02\n",
      " -5.14422622e+03  2.77686002e+03  5.42006665e+03 -5.18007864e+03\n",
      " -2.26668677e+04 -1.07459452e+04  2.50179495e+04 -5.75782242e+03\n",
      " -8.18616235e+03  3.90054602e+03 -3.36142508e+03 -3.22761173e+03\n",
      " -9.32985508e+03  1.03364131e+04  1.44623994e-12  3.11468439e+03\n",
      "  2.30373382e+03 -3.15555526e+03  7.61180949e-12 -7.59224279e+03\n",
      " -1.39564250e+04  1.31467155e+03 -6.55735151e-12 -2.56855661e+03\n",
      "  3.90781119e+03 -5.37859151e+03 -3.22761173e+03  1.61853016e+04\n",
      "  1.08323640e-12  9.60158545e+03  8.66238352e+03  2.77686002e+03\n",
      " -1.70645244e+03 -9.32985508e+03  3.90054602e+03 -5.36735366e+03\n",
      "  2.36064904e+04  3.70281529e-12 -2.80973116e-12 -2.70360933e+03\n",
      " -4.71276344e-12  5.73454846e+03 -2.18334415e-12 -4.73053399e+03\n",
      " -4.98904363e+03  2.36764314e+03 -5.33544816e+03 -1.01066810e+04\n",
      " -5.18007864e+03  3.61642123e-12  8.59212013e+03 -1.31729337e+04\n",
      " -5.75782242e+03 -1.67495259e+04  2.54903285e+04 -3.08585966e+03\n",
      "  0.00000000e+00  0.00000000e+00  2.30373382e+03  0.00000000e+00\n",
      " -1.04645798e+03  4.64632299e+03  8.06798231e+04  7.83321663e+03\n",
      "  2.18416179e+03 -8.18616235e+03  0.00000000e+00 -6.18975535e+03\n",
      "  3.11468439e+03 -3.71877851e+03 -7.72093645e+02  0.00000000e+00\n",
      "  0.00000000e+00 -1.80437033e+04 -2.85232662e+04  2.13720212e+03\n",
      "  5.42006665e+03 -4.52546507e+03 -1.29724116e+04  0.00000000e+00\n",
      "  7.47553800e+03 -2.07496956e+04  1.52996144e+04 -4.19465282e+04\n",
      "  2.92197882e+03  7.32663085e+03 -8.51239880e+03  3.03990360e+01\n",
      "  1.15645515e+04  3.96725578e+03 -5.05545766e+02  4.36961274e+03\n",
      "  1.75296277e+04]\n",
      "Valor p: [4.24718244e-01 4.96921279e-01 2.32960124e-01 5.33560262e-01\n",
      " 7.12199445e-01 5.15995795e-01 2.78837542e-01 6.61298629e-01\n",
      " 9.38886827e-01 4.93069208e-01 5.89519418e-01 8.26791882e-01\n",
      " 7.52358691e-01 8.03427673e-01 1.56698017e-01 7.18945148e-01\n",
      " 3.96048689e-01 3.10033869e-01 3.85853867e-03 4.49924930e-01\n",
      " 3.81144563e-01 3.26601270e-01 5.52289641e-01 5.14392564e-01\n",
      " 2.54541374e-01 5.17178882e-04 9.28867769e-01 4.51615097e-01\n",
      " 4.86495347e-01 2.96150504e-01 4.26167343e-01 5.23499338e-02\n",
      " 2.50588123e-02 9.40535358e-01 1.05859101e-03 7.73430193e-01\n",
      " 4.81866027e-01 2.07792081e-01 5.14392564e-01 2.51334012e-02\n",
      " 5.12460864e-01 4.02526088e-01 4.60395125e-01 8.03427673e-01\n",
      " 8.06829404e-01 2.54541374e-01 3.26601270e-01 6.43572467e-01\n",
      " 2.43494451e-02 1.37413149e-02 1.48841623e-01 4.93069208e-01\n",
      " 3.45350174e-05 5.76035982e-01 4.03092430e-02 2.34848603e-01\n",
      " 4.96921279e-01 8.71839670e-01 2.32960124e-01 1.62775047e-01\n",
      " 7.18945148e-01 5.43270108e-03 8.79768727e-01 1.09787709e-02\n",
      " 4.49924930e-01 4.10021778e-02 5.77140703e-03 2.78837542e-01\n",
      "            nan            nan 4.86495347e-01            nan\n",
      " 8.10907139e-01 7.12199445e-01 6.62044438e-03 1.72423814e-01\n",
      " 7.39246833e-01 3.81144563e-01            nan 2.47633731e-01\n",
      " 4.51615097e-01 6.27129624e-01 9.56518377e-01            nan\n",
      "            nan 3.50712026e-02 2.68952792e-01 5.15995795e-01\n",
      " 1.56698017e-01 6.89278458e-01 2.73889006e-01            nan\n",
      " 6.93461707e-01 7.32669252e-02 7.26566312e-03 2.34041996e-02\n",
      " 6.39863079e-01 1.66133339e-01 4.10989013e-01 9.60746794e-01\n",
      " 4.26747558e-01 8.53779365e-01 8.75772939e-01 1.16987241e-01\n",
      " 8.59223735e-03]\n"
     ]
    }
   ],
   "source": [
    "#Celda de prueba para obtener el valor p y coeficientes de determinacion y de las variables independientes\n",
    "\n",
    "import statsmodels.api as sm\n",
    "\n",
    "# Nos aseguramos de que x_train sea un array de tipo float\n",
    "# Esto es necesario para que statsmodels pueda manejar los datos correctamente\n",
    "x_train_numeric = x_train.astype(float)\n",
    "\n",
    "x_train_const = sm.add_constant(x_train_numeric)\n",
    "\n",
    "modelo_sm = sm.OLS(y_train, x_train_const).fit()\n",
    "\n",
    "print(f'Coeficiente de determinacion R^2: {modelo_sm.rsquared}')\n",
    "print(f'Coeficientes: {modelo_sm.params}')\n",
    "print(f'Valor p: {modelo_sm.pvalues}')"
   ]
  },
  {
   "cell_type": "markdown",
   "metadata": {
    "id": "wwtq76vTJRMl"
   },
   "source": [
    "### El modelo no servira para predecir los datos\n",
    "\n",
    "Para este proyecto, se buscaba predecir el precio de las casas en la ciudad de Valencia, Venezuela. Sin embargo, los datos no tienen una significancia o relacion plena que permitan realizar un modelo de machine learning que prediga el precio. Las razones son las siguiente:\n",
    "\n",
    "En terminos sencillos, cuando se realizan modelos de machine learning, como en este caso de regresion, se tiene que evaluar y medir el rendimiento de este modelo. Una de las maneras es realizando la misma prediccion, y si los valores predichos son similares o parecidos a los valores originales, el modelo cumplio los objetivos. Otra forma es el calculo de ciertos indicadores que ayudan a determinar su rendimiento, entre esos el coeficiente de determinacion R^2 y el valor p. Incluso la creacion de graficos para verificar \"al ojo por ciento\", como se dice coloquialmente, tambien es una manera de verificar como pueden ser los resultados del modelo.\n",
    "\n",
    "  -R^2: Para validar el rendimiento de un modelo de regresion con esta medida se verifica que este valor este lo mas cerca posible de 1. Mientras mayor sea el valor, o mas cercano este de 1, indica que el modelo explica de manera optima los datos. En este caso el valor del coeficiente de determinacion (R^2) es de 0.9919696791747508. Este caso el modelo puede explicar bien los datos. Sin embargo, el valor p tiene otra cara.\n",
    "  \n",
    "  -P value: El valor p, en palabras sencillas indica la probabilidad de que los resultados del modelo no esten dados al azar. Mientras mas pequeño sea el valor (menor a 0.05), mejor sera el rendimmiento. En este caso, realice el calculo para que se reflejara el valor p en todos los campos (o columnas) de datos (recordar que al realizar la codificacion de dos columnas, estas se dividieron en mas columnas tomando valores binarios de 0 y 1), y ninguna de las columnas se acerca al valor deseado que es 0.05.\n",
    "\n",
    "\n",
    "Dadas estas razones, se puede concluir que un modelo de regresion lineal no es capaz de realizar la prediccion o estimacion correcta de los precios de las casas en la ciudad de Valencia.\n",
    "\n",
    "Esto puede deberse tambien a la falta de datos para trabajar, ya que el dataset empleado no es mayor a 100 registros. De igual manera, las caracteristicas de los inmuebles han sido relativamente escazas. De tener mayor informacion sobre como otras caracteristicas pueden sumar o restar valor a un apartamento, el modelo podria funcionar de manera mas optima.\n",
    "\n",
    "\n",
    "\n",
    "Sin embargo, no llegamos hasta este punto para nada. Con el modelo y los datos que se tienen en este proyecto voy a realizar la prediccion que planteo inicialmente. Aun así, seguire investigando y buscando otras formas y modelos que se puedan ajustar a los datos, y poder realizar un trabajo mas optimo."
   ]
  },
  {
   "cell_type": "code",
   "execution_count": 38,
   "metadata": {},
   "outputs": [
    {
     "name": "stdout",
     "output_type": "stream",
     "text": [
      "[['Trigaleña' 'Monreale']\n",
      " ['San Diego' 'Terrazas de San Diego']\n",
      " ['Trigaleña' 'Bahia Platinum']\n",
      " ['Parral' 'Imola']\n",
      " ['San Diego' 'Valle Topacio']\n",
      " ['La Florida' 'Portales de San Luis']\n",
      " ['Mañongo' '2014']\n",
      " ['Trigaleña' 'Amalfi Suite II']\n",
      " ['Mañongo' 'Puerta Real']\n",
      " ['Cuatricentenaria' 'Mirador Country']\n",
      " ['Trigaleña' 'Monteararat']\n",
      " ['Rincon' 'Doral Country']\n",
      " ['Caracas - Baruta' 'Terrazas de la Tahona']\n",
      " ['Parral' 'Gran Tepuy']\n",
      " ['Naguanagua' 'Los Caracaros']\n",
      " ['Trigaleña' 'Saint Moritz']\n",
      " ['Trigaleña ' 'Jacaranda']\n",
      " ['La Granja' 'La Granja']\n",
      " ['Mañongo' 'Sun Suite']]\n"
     ]
    }
   ],
   "source": [
    "#Con esta celda devuelvo los valores de las variables dummies.\n",
    "#Es decir, devuelvo el valor original a las columnas de Conj.Residencial y Zona\n",
    "\n",
    "num_columns_generated = ct.transformers_[0][1].categories_[0].size + ct.transformers_[0][1].categories_[1].size\n",
    "\n",
    "x_test_decoded = ct.named_transformers_['encoder'].inverse_transform(x_test[:, :num_columns_generated])\n",
    "\n",
    "print(x_test_decoded)\n",
    "\n",
    "#x_test = x_test.astype(float)\n",
    "#x_test"
   ]
  },
  {
   "cell_type": "code",
   "execution_count": null,
   "metadata": {},
   "outputs": [
    {
     "name": "stdout",
     "output_type": "stream",
     "text": [
      "[['Trigaleña' 'Monreale' 55.0 2.0 1.0 1.0 0.0 1.0]\n",
      " ['San Diego' 'Terrazas de San Diego' 62.23 3.0 2.0 1.0 1.0 0.0]\n",
      " ['Trigaleña' 'Bahia Platinum' 186.0 4.0 3.0 3.0 1.0 1.0]\n",
      " ['Parral' 'Imola' 68.0 2.0 2.0 1.0 1.0 1.0]\n",
      " ['San Diego' 'Valle Topacio' 60.0 2.0 2.0 1.0 1.0 0.0]\n",
      " ['La Florida' 'Portales de San Luis' 67.0 3.0 2.0 1.0 0.0 0.0]\n",
      " ['Mañongo' '2014' 180.0 3.0 3.0 0.0 1.0 1.0]\n",
      " ['Trigaleña' 'Amalfi Suite II' 205.0 4.0 5.0 0.0 1.0 1.0]\n",
      " ['Mañongo' 'Puerta Real' 154.0 3.0 4.0 5.0 0.0 0.0]\n",
      " ['Cuatricentenaria' 'Mirador Country' 45.0 1.0 2.0 1.0 1.0 1.0]\n",
      " ['Trigaleña' 'Monteararat' 113.0 3.0 2.0 2.0 1.0 1.0]\n",
      " ['Rincon' 'Doral Country' 74.0 3.0 2.0 1.0 1.0 0.0]\n",
      " ['Caracas - Baruta' 'Terrazas de la Tahona' 70.0 2.0 2.0 2.0 0.0 0.0]\n",
      " ['Parral' 'Gran Tepuy' 580.0 5.0 6.0 4.0 1.0 1.0]\n",
      " ['Naguanagua' 'Los Caracaros' 86.0 3.0 2.0 1.0 1.0 1.0]\n",
      " ['Trigaleña' 'Saint Moritz' 74.0 2.0 2.0 1.0 1.0 0.0]\n",
      " ['Trigaleña ' 'Jacaranda' 165.0 4.0 3.0 3.0 1.0 1.0]\n",
      " ['La Granja' 'La Granja' 90.0 3.0 2.0 1.0 1.0 0.0]\n",
      " ['Mañongo' 'Sun Suite' 57.0 2.0 2.0 2.0 1.0 0.0]]\n"
     ]
    }
   ],
   "source": [
    "#Y en esta celda vuelvo a unir los valores correspondientes\n",
    "\n",
    "x_test_ = x_test[:,-6:]\n",
    "\n",
    "x_test_decoded = np.concatenate((x_test_decoded, x_test_), axis=1)\n",
    "\n",
    "print(x_test_decoded)"
   ]
  },
  {
   "cell_type": "code",
   "execution_count": 54,
   "metadata": {},
   "outputs": [
    {
     "name": "stdout",
     "output_type": "stream",
     "text": [
      "[ 33408.03464749  17854.99659807  71812.44417168  57035.53900874\n",
      "  26047.73468867  19311.7025091   57217.7615674   81841.17470646\n",
      "  34391.60123454  16600.27519868  54567.05301006  33900.77543785\n",
      "   7332.80233077 121645.88583051  39287.30534178  23216.78524988\n",
      "  60286.83614745  25028.15354661  24352.93580725]\n"
     ]
    }
   ],
   "source": [
    "#Ahora realizo la prediccion y la guardo en una variable\n",
    "\n",
    "y_pred = modelo.predict(x_test)\n",
    "\n",
    "print(y_pred)\n",
    "\n",
    "#Importante la prediccion la hago con el set de prueba.\n",
    "#Al momento de separar el dataset para entenar el modelo, lo separe en set de prueba y entrenamiento (x_trainy x_test)\n",
    "#En este caso la prediccion la hice con x_test, el cual son datos que el modelo no ha recibido anteriormente en su entrenamiento"
   ]
  },
  {
   "cell_type": "code",
   "execution_count": 53,
   "metadata": {},
   "outputs": [
    {
     "name": "stdout",
     "output_type": "stream",
     "text": [
      "[ 25000.  15500. 160000.  33000.  20000.  18000.  85000. 150000.  99750.\n",
      "  23000.  52000.  28000.  61500. 147000.  14800.  17000. 155000.  23500.\n",
      "  29000.]\n"
     ]
    }
   ],
   "source": [
    "y_test = y_test\n",
    "\n",
    "print(y_test)"
   ]
  },
  {
   "cell_type": "code",
   "execution_count": null,
   "metadata": {},
   "outputs": [
    {
     "data": {
      "application/vnd.microsoft.datawrangler.viewer.v0+json": {
       "columns": [
        {
         "name": "index",
         "rawType": "int64",
         "type": "integer"
        },
        {
         "name": "y_test",
         "rawType": "float64",
         "type": "float"
        },
        {
         "name": "y_pred",
         "rawType": "float64",
         "type": "float"
        },
        {
         "name": "Diferencia",
         "rawType": "float64",
         "type": "float"
        }
       ],
       "conversionMethod": "pd.DataFrame",
       "ref": "bd3e2d94-e6e5-407f-a005-aef0d2787499",
       "rows": [
        [
         "0",
         "25000.0",
         "33408.03464748779",
         "8408.034647487788"
        ],
        [
         "1",
         "15500.0",
         "17854.996598069716",
         "2354.996598069716"
        ],
        [
         "2",
         "160000.0",
         "71812.44417168444",
         "88187.55582831556"
        ],
        [
         "3",
         "33000.0",
         "57035.53900874188",
         "24035.53900874188"
        ],
        [
         "4",
         "20000.0",
         "26047.734688670396",
         "6047.734688670396"
        ],
        [
         "5",
         "18000.0",
         "19311.702509099014",
         "1311.7025090990137"
        ],
        [
         "6",
         "85000.0",
         "57217.761567403155",
         "27782.238432596845"
        ],
        [
         "7",
         "150000.0",
         "81841.1747064642",
         "68158.8252935358"
        ],
        [
         "8",
         "99750.0",
         "34391.60123454097",
         "65358.39876545903"
        ],
        [
         "9",
         "23000.0",
         "16600.275198676318",
         "6399.724801323682"
        ],
        [
         "10",
         "52000.0",
         "54567.05301006074",
         "2567.053010060743"
        ],
        [
         "11",
         "28000.0",
         "33900.77543784955",
         "5900.775437849552"
        ],
        [
         "12",
         "61500.0",
         "7332.802330774768",
         "54167.197669225236"
        ],
        [
         "13",
         "147000.0",
         "121645.88583051358",
         "25354.11416948642"
        ],
        [
         "14",
         "14800.0",
         "39287.305341778214",
         "24487.305341778214"
        ],
        [
         "15",
         "17000.0",
         "23216.785249878194",
         "6216.785249878194"
        ],
        [
         "16",
         "155000.0",
         "60286.83614744725",
         "94713.16385255275"
        ],
        [
         "17",
         "23500.0",
         "25028.15354661068",
         "1528.1535466106798"
        ],
        [
         "18",
         "29000.0",
         "24352.935807245587",
         "4647.064192754413"
        ]
       ],
       "shape": {
        "columns": 3,
        "rows": 19
       }
      },
      "text/html": [
       "<div>\n",
       "<style scoped>\n",
       "    .dataframe tbody tr th:only-of-type {\n",
       "        vertical-align: middle;\n",
       "    }\n",
       "\n",
       "    .dataframe tbody tr th {\n",
       "        vertical-align: top;\n",
       "    }\n",
       "\n",
       "    .dataframe thead th {\n",
       "        text-align: right;\n",
       "    }\n",
       "</style>\n",
       "<table border=\"1\" class=\"dataframe\">\n",
       "  <thead>\n",
       "    <tr style=\"text-align: right;\">\n",
       "      <th></th>\n",
       "      <th>y_test</th>\n",
       "      <th>y_pred</th>\n",
       "      <th>Diferencia</th>\n",
       "    </tr>\n",
       "  </thead>\n",
       "  <tbody>\n",
       "    <tr>\n",
       "      <th>0</th>\n",
       "      <td>25000.0</td>\n",
       "      <td>33408.034647</td>\n",
       "      <td>8408.034647</td>\n",
       "    </tr>\n",
       "    <tr>\n",
       "      <th>1</th>\n",
       "      <td>15500.0</td>\n",
       "      <td>17854.996598</td>\n",
       "      <td>2354.996598</td>\n",
       "    </tr>\n",
       "    <tr>\n",
       "      <th>2</th>\n",
       "      <td>160000.0</td>\n",
       "      <td>71812.444172</td>\n",
       "      <td>88187.555828</td>\n",
       "    </tr>\n",
       "    <tr>\n",
       "      <th>3</th>\n",
       "      <td>33000.0</td>\n",
       "      <td>57035.539009</td>\n",
       "      <td>24035.539009</td>\n",
       "    </tr>\n",
       "    <tr>\n",
       "      <th>4</th>\n",
       "      <td>20000.0</td>\n",
       "      <td>26047.734689</td>\n",
       "      <td>6047.734689</td>\n",
       "    </tr>\n",
       "    <tr>\n",
       "      <th>5</th>\n",
       "      <td>18000.0</td>\n",
       "      <td>19311.702509</td>\n",
       "      <td>1311.702509</td>\n",
       "    </tr>\n",
       "    <tr>\n",
       "      <th>6</th>\n",
       "      <td>85000.0</td>\n",
       "      <td>57217.761567</td>\n",
       "      <td>27782.238433</td>\n",
       "    </tr>\n",
       "    <tr>\n",
       "      <th>7</th>\n",
       "      <td>150000.0</td>\n",
       "      <td>81841.174706</td>\n",
       "      <td>68158.825294</td>\n",
       "    </tr>\n",
       "    <tr>\n",
       "      <th>8</th>\n",
       "      <td>99750.0</td>\n",
       "      <td>34391.601235</td>\n",
       "      <td>65358.398765</td>\n",
       "    </tr>\n",
       "    <tr>\n",
       "      <th>9</th>\n",
       "      <td>23000.0</td>\n",
       "      <td>16600.275199</td>\n",
       "      <td>6399.724801</td>\n",
       "    </tr>\n",
       "    <tr>\n",
       "      <th>10</th>\n",
       "      <td>52000.0</td>\n",
       "      <td>54567.053010</td>\n",
       "      <td>2567.053010</td>\n",
       "    </tr>\n",
       "    <tr>\n",
       "      <th>11</th>\n",
       "      <td>28000.0</td>\n",
       "      <td>33900.775438</td>\n",
       "      <td>5900.775438</td>\n",
       "    </tr>\n",
       "    <tr>\n",
       "      <th>12</th>\n",
       "      <td>61500.0</td>\n",
       "      <td>7332.802331</td>\n",
       "      <td>54167.197669</td>\n",
       "    </tr>\n",
       "    <tr>\n",
       "      <th>13</th>\n",
       "      <td>147000.0</td>\n",
       "      <td>121645.885831</td>\n",
       "      <td>25354.114169</td>\n",
       "    </tr>\n",
       "    <tr>\n",
       "      <th>14</th>\n",
       "      <td>14800.0</td>\n",
       "      <td>39287.305342</td>\n",
       "      <td>24487.305342</td>\n",
       "    </tr>\n",
       "    <tr>\n",
       "      <th>15</th>\n",
       "      <td>17000.0</td>\n",
       "      <td>23216.785250</td>\n",
       "      <td>6216.785250</td>\n",
       "    </tr>\n",
       "    <tr>\n",
       "      <th>16</th>\n",
       "      <td>155000.0</td>\n",
       "      <td>60286.836147</td>\n",
       "      <td>94713.163853</td>\n",
       "    </tr>\n",
       "    <tr>\n",
       "      <th>17</th>\n",
       "      <td>23500.0</td>\n",
       "      <td>25028.153547</td>\n",
       "      <td>1528.153547</td>\n",
       "    </tr>\n",
       "    <tr>\n",
       "      <th>18</th>\n",
       "      <td>29000.0</td>\n",
       "      <td>24352.935807</td>\n",
       "      <td>4647.064193</td>\n",
       "    </tr>\n",
       "  </tbody>\n",
       "</table>\n",
       "</div>"
      ],
      "text/plain": [
       "      y_test         y_pred    Diferencia\n",
       "0    25000.0   33408.034647   8408.034647\n",
       "1    15500.0   17854.996598   2354.996598\n",
       "2   160000.0   71812.444172  88187.555828\n",
       "3    33000.0   57035.539009  24035.539009\n",
       "4    20000.0   26047.734689   6047.734689\n",
       "5    18000.0   19311.702509   1311.702509\n",
       "6    85000.0   57217.761567  27782.238433\n",
       "7   150000.0   81841.174706  68158.825294\n",
       "8    99750.0   34391.601235  65358.398765\n",
       "9    23000.0   16600.275199   6399.724801\n",
       "10   52000.0   54567.053010   2567.053010\n",
       "11   28000.0   33900.775438   5900.775438\n",
       "12   61500.0    7332.802331  54167.197669\n",
       "13  147000.0  121645.885831  25354.114169\n",
       "14   14800.0   39287.305342  24487.305342\n",
       "15   17000.0   23216.785250   6216.785250\n",
       "16  155000.0   60286.836147  94713.163853\n",
       "17   23500.0   25028.153547   1528.153547\n",
       "18   29000.0   24352.935807   4647.064193"
      ]
     },
     "execution_count": 57,
     "metadata": {},
     "output_type": "execute_result"
    }
   ],
   "source": [
    "#Aca se puede ver una comparacion de los valores reales y los valores predichos por el modelo\n",
    "\n",
    "comparacion_ypred_ytest = pd.DataFrame({'y_test': y_test, 'y_pred': y_pred})\n",
    "comparacion_ypred_ytest['Diferencia'] = comparacion_ypred_ytest['y_test']-comparacion_ypred_ytest['y_pred']\n",
    "\n",
    "comparacion_ypred_ytest['Diferencia'] = comparacion_ypred_ytest['Diferencia'].abs()\n",
    "\n",
    "comparacion_ypred_ytest\n",
    "\n",
    "#En resumen, el modelo efectivamente no logro realizar las predicciones correctamente."
   ]
  },
  {
   "cell_type": "markdown",
   "metadata": {},
   "source": [
    "## Finalizacion del proyecto\n",
    "\n",
    "Las conclusiones del proyecto ya fueron indicadas en el ultimo markdown, por lo que no utilizaré este markdown para eso. Se pudo realizar la prediccion con los datos de prueba (x_test) y efectivamente no salen como se esperaban. Algunos datos se acercan a los valores originales, pero no todos. La mayoria de los datos predichos estan tienen rangos muy dispares con los datos originales. En resumen, el modelo no es efectivo para estos datos.\n",
    "\n",
    "Nuevamente, voy a esperar para conseguir mas datos y mas campos para este proyecto de bienes raices en Valencia, Venezuela ya que creo que es interesante. Al mismo tiempo investigar y aprender sobre otros modelos de ml que pueda aplicar a estos datos para conseguir los resultados esperados."
   ]
  },
  {
   "cell_type": "markdown",
   "metadata": {},
   "source": [
    "Si llegaste hasta el final del proyecto, muchisimas gracias. Y si tienes algo que aportar sobre mi proyecto o consideras que podemos trabajar juntos, no dudes en contactarme:\n",
    "\n",
    "Linkedin: www.linkedin.com/in/angel-diaz-372748252\n",
    "\n",
    "GitHub: ENYEL00\n",
    "\n",
    "Correo: angelgdiaze@gmailcom"
   ]
  },
  {
   "cell_type": "code",
   "execution_count": null,
   "metadata": {},
   "outputs": [
    {
     "data": {
      "text/plain": [
       "'\\nimport numpy as np\\nfrom sklearn.compose import ColumnTransformer\\nfrom sklearn.preprocessing import OneHotEncoder\\n\\n# Datos de ejemplo\\nx_train = np.array([\\n    [\\'Caracas - Baruta\\', \\'Conj. A\\'],\\n    [\\'Cuatricentenaria\\', \\'Conj. B\\'],\\n    [\\'La Florida\\', \\'Conj. C\\'],\\n    [\\'La Granja\\', \\'Conj. D\\'],\\n    [\\'Mañongo\\', \\'Conj. E\\']\\n])\\n\\n# Crear el ColumnTransformer con OneHotEncoder\\nct = ColumnTransformer(\\n    transformers=[\\n        (\\'encoder\\', OneHotEncoder(sparse_output=False), [0, 1])\\n    ], remainder=\\'passthrough\\'\\n)\\n\\n# Ajustar y transformar los datos\\nx_train_transformed = ct.fit_transform(x_train)\\n\\n# Calcular el número total de columnas generadas por el OneHotEncoder\\nnum_columns_generated = ct.transformers_[0][1].categories_[0].size + ct.transformers_[0][1].categories_[1].size\\n\\nx_train_decoded = ct.named_transformers_[\\'encoder\\'].inverse_transform(x_train_transformed[:,:num_columns_generated])\\n\\n\\nprint(\"Número total de columnas generadas por el OneHotEncoder:\")\\nprint(num_columns_generated)\\n\\nx_train_decoded\"\\n'"
      ]
     },
     "execution_count": 160,
     "metadata": {},
     "output_type": "execute_result"
    }
   ],
   "source": [
    "#Codigo para devolver los valores originales de las variables dummies\n",
    "\"\"\"\n",
    "import numpy as np\n",
    "from sklearn.compose import ColumnTransformer\n",
    "from sklearn.preprocessing import OneHotEncoder\n",
    "\n",
    "# Datos de ejemplo\n",
    "x_train = np.array([\n",
    "    ['Caracas - Baruta', 'Conj. A'],\n",
    "    ['Cuatricentenaria', 'Conj. B'],\n",
    "    ['La Florida', 'Conj. C'],\n",
    "    ['La Granja', 'Conj. D'],\n",
    "    ['Mañongo', 'Conj. E']\n",
    "])\n",
    "\n",
    "# Crear el ColumnTransformer con OneHotEncoder\n",
    "ct = ColumnTransformer(\n",
    "    transformers=[\n",
    "        ('encoder', OneHotEncoder(sparse_output=False), [0, 1])\n",
    "    ], remainder='passthrough'\n",
    ")\n",
    "\n",
    "# Ajustar y transformar los datos\n",
    "x_train_transformed = ct.fit_transform(x_train)\n",
    "\n",
    "# Calcular el número total de columnas generadas por el OneHotEncoder\n",
    "num_columns_generated = ct.transformers_[0][1].categories_[0].size + ct.transformers_[0][1].categories_[1].size\n",
    "\n",
    "x_train_decoded = ct.named_transformers_['encoder'].inverse_transform(x_train_transformed[:,:num_columns_generated])\n",
    "\n",
    "\n",
    "print(\"Número total de columnas generadas por el OneHotEncoder:\")\n",
    "print(num_columns_generated)\n",
    "\n",
    "x_train_decoded\"\n",
    "\"\"\""
   ]
  }
 ],
 "metadata": {
  "colab": {
   "provenance": []
  },
  "kernelspec": {
   "display_name": "Python 3",
   "language": "python",
   "name": "python3"
  },
  "language_info": {
   "codemirror_mode": {
    "name": "ipython",
    "version": 3
   },
   "file_extension": ".py",
   "mimetype": "text/x-python",
   "name": "python",
   "nbconvert_exporter": "python",
   "pygments_lexer": "ipython3",
   "version": "3.12.9"
  }
 },
 "nbformat": 4,
 "nbformat_minor": 0
}
